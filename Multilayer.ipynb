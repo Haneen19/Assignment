{
 "cells": [
  {
   "cell_type": "code",
   "execution_count": 25,
   "id": "29c288d1",
   "metadata": {},
   "outputs": [],
   "source": [
    "import matplotlib.pyplot as plt\n",
    "import numpy as np\n",
    "import cv2\n",
    "import os\n",
    "import PIL\n",
    "import tensorflow as tf\n",
    "\n",
    "from tensorflow import keras\n",
    "from tensorflow.keras import layers\n",
    "from tensorflow.keras.models import Sequential"
   ]
  },
  {
   "cell_type": "code",
   "execution_count": 26,
   "id": "28554e15",
   "metadata": {},
   "outputs": [
    {
     "data": {
      "text/plain": [
       "'C:/Users/Hp/Downloads/CroppedYale'"
      ]
     },
     "execution_count": 26,
     "metadata": {},
     "output_type": "execute_result"
    }
   ],
   "source": [
    "data_dir = 'C:/Users/Hp/Downloads/CroppedYale'\n",
    "data_dir"
   ]
  },
  {
   "cell_type": "code",
   "execution_count": 27,
   "id": "a5bf7be6",
   "metadata": {},
   "outputs": [
    {
     "data": {
      "text/plain": [
       "WindowsPath('C:/Users/Hp/Downloads/CroppedYale')"
      ]
     },
     "execution_count": 27,
     "metadata": {},
     "output_type": "execute_result"
    }
   ],
   "source": [
    "import pathlib\n",
    "data_dir = pathlib.Path(data_dir)\n",
    "data_dir"
   ]
  },
  {
   "cell_type": "code",
   "execution_count": 28,
   "id": "e6c3e6b0",
   "metadata": {},
   "outputs": [
    {
     "data": {
      "text/plain": [
       "[WindowsPath('C:/Users/Hp/Downloads/CroppedYale/yaleB01/yaleB01_P00A+000E+45.jpg'),\n",
       " WindowsPath('C:/Users/Hp/Downloads/CroppedYale/yaleB01/yaleB01_P00A+000E+90.jpg'),\n",
       " WindowsPath('C:/Users/Hp/Downloads/CroppedYale/yaleB01/yaleB01_P00A+000E-20.jpg'),\n",
       " WindowsPath('C:/Users/Hp/Downloads/CroppedYale/yaleB01/yaleB01_P00A+000E-35.jpg'),\n",
       " WindowsPath('C:/Users/Hp/Downloads/CroppedYale/yaleB01/yaleB01_P00A+005E+10.jpg')]"
      ]
     },
     "execution_count": 28,
     "metadata": {},
     "output_type": "execute_result"
    }
   ],
   "source": [
    "list(data_dir.glob('*/*.jpg'))[:5]"
   ]
  },
  {
   "cell_type": "code",
   "execution_count": 29,
   "id": "f9d0c50b",
   "metadata": {},
   "outputs": [
    {
     "name": "stdout",
     "output_type": "stream",
     "text": [
      "2449\n"
     ]
    }
   ],
   "source": [
    "image_count = len(list(data_dir.glob('*/*.jpg')))\n",
    "print(image_count)"
   ]
  },
  {
   "cell_type": "code",
   "execution_count": 30,
   "id": "1d80c08b",
   "metadata": {},
   "outputs": [
    {
     "data": {
      "text/plain": [
       "[WindowsPath('C:/Users/Hp/Downloads/CroppedYale/yaleB01/DEADJOE'),\n",
       " WindowsPath('C:/Users/Hp/Downloads/CroppedYale/yaleB01/WS_FTP.LOG'),\n",
       " WindowsPath('C:/Users/Hp/Downloads/CroppedYale/yaleB01/yaleB01_P00.info'),\n",
       " WindowsPath('C:/Users/Hp/Downloads/CroppedYale/yaleB01/yaleB01_P00A+000E+45.jpg'),\n",
       " WindowsPath('C:/Users/Hp/Downloads/CroppedYale/yaleB01/yaleB01_P00A+000E+90.jpg')]"
      ]
     },
     "execution_count": 30,
     "metadata": {},
     "output_type": "execute_result"
    }
   ],
   "source": [
    "yaleB01 = list(data_dir.glob('yaleB01/*'))\n",
    "yaleB01[:5]"
   ]
  },
  {
   "cell_type": "code",
   "execution_count": 31,
   "id": "2fc6e95f",
   "metadata": {},
   "outputs": [],
   "source": [
    "images_dict = {\n",
    "               'yaleB01' :list(data_dir.glob('yaleB01/*')) , \n",
    "               'yaleB02' :list(data_dir.glob('yaleB02/*')) , \n",
    "               'yaleB03' :list(data_dir.glob('yaleB03/*')) , \n",
    "               'yaleB04' :list(data_dir.glob('yaleB04/*')) , \n",
    "               'yaleB05' :list(data_dir.glob('yaleB05/*')) , \n",
    "               'yaleB06' :list(data_dir.glob('yaleB06/*')) , \n",
    "               'yaleB07' :list(data_dir.glob('yaleB07/*')) , \n",
    "               'yaleB08' :list(data_dir.glob('yaleB08/*')) , \n",
    "               'yaleB09' :list(data_dir.glob('yaleB09/*')) , \n",
    "               'yaleB10' :list(data_dir.glob('yaleB10/*')) , \n",
    "               'yaleB11' :list(data_dir.glob('yaleB11/*')), \n",
    "               'yaleB12' :list(data_dir.glob('yaleB12/*')), \n",
    "               'yaleB13' :list(data_dir.glob('yaleB13/*')), \n",
    "               'yaleB15' :list(data_dir.glob('yaleB15/*')), \n",
    "               'yaleB16' :list(data_dir.glob('yaleB16/*')), \n",
    "               'yaleB17' :list(data_dir.glob('yaleB17/*')), \n",
    "               'yaleB18' :list(data_dir.glob('yaleB18/*')), \n",
    "               'yaleB19' :list(data_dir.glob('yaleB19/*')), \n",
    "               'yaleB20' :list(data_dir.glob('yaleB20/*')), \n",
    "               'yaleB21' :list(data_dir.glob('yaleB21/*')), \n",
    "               'yaleB22' :list(data_dir.glob('yaleB22/*')), \n",
    "               'yaleB23' :list(data_dir.glob('yaleB23/*')), \n",
    "               'yaleB24' :list(data_dir.glob('yaleB24/*')), \n",
    "               'yaleB25' :list(data_dir.glob('yaleB25/*')), \n",
    "               'yaleB26' :list(data_dir.glob('yaleB26/*')), \n",
    "               'yaleB27' :list(data_dir.glob('yaleB27/*')), \n",
    "               'yaleB28' :list(data_dir.glob('yaleB28/*')), \n",
    "               'yaleB29' :list(data_dir.glob('yaleB29/*')), \n",
    "               'yaleB30' :list(data_dir.glob('yaleB30/*')), \n",
    "               'yaleB31' :list(data_dir.glob('yaleB31/*')), \n",
    "               'yaleB32' :list(data_dir.glob('yaleB32/*')), \n",
    "               'yaleB33' :list(data_dir.glob('yaleB33/*')), \n",
    "               'yaleB34' :list(data_dir.glob('yaleB34/*')), \n",
    "               'yaleB35' :list(data_dir.glob('yaleB35/*')), \n",
    "               'yaleB36' :list(data_dir.glob('yaleB36/*')), \n",
    "               'yaleB37' :list(data_dir.glob('yaleB37/*')), \n",
    "               'yaleB38' :list(data_dir.glob('yaleB38/*')),\n",
    "               'yaleB39' :list(data_dir.glob('yaleB39/*')),\n",
    "}"
   ]
  },
  {
   "cell_type": "code",
   "execution_count": 32,
   "id": "7858c157",
   "metadata": {},
   "outputs": [],
   "source": [
    "Data_labels = {'yaleB01' :0 , \n",
    "               'yaleB02' :1 , \n",
    "               'yaleB03' :2 , \n",
    "               'yaleB04' :3 , \n",
    "               'yaleB05' :4 , \n",
    "               'yaleB06' :5 , \n",
    "               'yaleB07' :6 , \n",
    "               'yaleB08' :7 , \n",
    "               'yaleB09' :8 , \n",
    "               'yaleB10' :9 , \n",
    "               'yaleB11' :10, \n",
    "               'yaleB12' :11, \n",
    "               'yaleB13' :12, \n",
    "               'yaleB15' :13, \n",
    "               'yaleB16' :14, \n",
    "               'yaleB17' :15, \n",
    "               'yaleB18' :16, \n",
    "               'yaleB19' :17, \n",
    "               'yaleB20' :18, \n",
    "               'yaleB21' :19, \n",
    "               'yaleB22' :20, \n",
    "               'yaleB23' :21, \n",
    "               'yaleB24' :22, \n",
    "               'yaleB25' :23, \n",
    "               'yaleB26' :24, \n",
    "               'yaleB27' :25, \n",
    "               'yaleB28' :26, \n",
    "               'yaleB29' :27, \n",
    "               'yaleB30' :28, \n",
    "               'yaleB31' :29, \n",
    "               'yaleB32' :30, \n",
    "               'yaleB33' :31, \n",
    "               'yaleB34' :32, \n",
    "               'yaleB35' :33, \n",
    "               'yaleB36' :34, \n",
    "               'yaleB37' :35, \n",
    "               'yaleB38' :36,\n",
    "               'yaleB39' :37,\n",
    "               \n",
    "               \n",
    "               \n",
    "    \n",
    "}"
   ]
  },
  {
   "cell_type": "code",
   "execution_count": 33,
   "id": "2315c428",
   "metadata": {},
   "outputs": [],
   "source": [
    "import os \n",
    "import numpy as np\n",
    "import matplotlib.pyplot as plt\n",
    "import cv2\n"
   ]
  },
  {
   "cell_type": "code",
   "execution_count": 34,
   "id": "94d32dda",
   "metadata": {},
   "outputs": [
    {
     "name": "stdout",
     "output_type": "stream",
     "text": [
      "2449\n"
     ]
    }
   ],
   "source": [
    "data = []   #data\n",
    "\n",
    "\n",
    "def make_data():                                        \n",
    "    for Data_label in Data_labels:                             #prepare the data  , the local path make join (data with data label)\n",
    "        path = os.path.join(data_dir ,Data_label )\n",
    "        label = Data_label.index(Data_label)\n",
    "        \n",
    "        \n",
    "        \n",
    "        for img_name in os.listdir(path):\n",
    "            imge_path = os.path.join(path ,img_name )\n",
    "            image = cv2.imread(imge_path)\n",
    "            \n",
    "            \n",
    "            try:\n",
    "                image = cv2.resize(image , (192 ,168))       \n",
    "                image = np.array(image , dtype =np.float32)\n",
    "                data.append([image , label])             #  append method adds an item to the end of the list\n",
    "                \n",
    "            except Exception as e:\n",
    "                pass\n",
    "    print(len(data))  \n",
    "    #pik = open('data.pickle', 'wb')\n",
    "    #pickle.dump(data,pick)\n",
    "    #pick.close()\n",
    "    \n",
    "            \n",
    "        \n",
    "make_data()\n",
    "\n",
    "\n",
    "\n"
   ]
  },
  {
   "cell_type": "code",
   "execution_count": 39,
   "id": "03c599f9",
   "metadata": {},
   "outputs": [],
   "source": [
    "def load_data():\n",
    "    np.random.shuffle(data)\n",
    "    feature =[]      \n",
    "    labels =[]\n",
    "    \n",
    "    \n",
    "    for img , label in data:\n",
    "        feature.append(img)\n",
    "        labels.append(label)\n",
    "    feature = np.array(feature , dtype = np.float32)\n",
    "    labels =   np.array(labels)\n",
    "    \n",
    "    feature = feature/255.0\n",
    "    \n",
    "    \n",
    "    return [feature , labels]\n",
    "    \n",
    "    "
   ]
  },
  {
   "cell_type": "code",
   "execution_count": 40,
   "id": "a52b8951",
   "metadata": {},
   "outputs": [],
   "source": [
    "from sklearn.model_selection import train_test_split\n",
    "from PIL import Image\n",
    "import pandas as pd\n",
    "import numpy as np\n",
    "import matplotlib.pyplot as plt\n",
    "\n",
    "from sklearn.model_selection import train_test_split\n",
    "import scipy.io as sio\n",
    "import pickle\n",
    "import seaborn as sns\n",
    "\n",
    "import tensorflow as tf\n",
    " \n",
    "from keras.models import Sequential\n",
    "from keras.layers.core import Dense, Dropout, Activation, Flatten\n",
    "from keras.layers import Conv2D, MaxPooling2D\n",
    "from keras.utils import np_utils\n",
    "from tensorflow.keras.layers import Conv2D, MaxPool2D\n",
    "import os,sys\n",
    "import glob\n",
    "from time import time"
   ]
  },
  {
   "cell_type": "code",
   "execution_count": 48,
   "id": "37448492",
   "metadata": {},
   "outputs": [],
   "source": [
    "(feature , labels) = load_data()                   # split data to 80% train , 20(teast, validation)\n",
    "\n",
    "x_train, x_test, y_train, y_test = train_test_split(feature ,labels, test_size = 0.2 , random_state = 20)\n"
   ]
  },
  {
   "cell_type": "code",
   "execution_count": 53,
   "id": "990475e9",
   "metadata": {},
   "outputs": [
    {
     "name": "stdout",
     "output_type": "stream",
     "text": [
      "(1959, 168, 192, 3)\n",
      "(490, 168, 192, 3)\n"
     ]
    }
   ],
   "source": [
    "print(x_train.shape)\n",
    "print(x_test.shape)\n"
   ]
  },
  {
   "cell_type": "code",
   "execution_count": 56,
   "id": "4d50d8ad",
   "metadata": {},
   "outputs": [
    {
     "name": "stdout",
     "output_type": "stream",
     "text": [
      "(1959, 96768)\n",
      "(490, 96768)\n"
     ]
    }
   ],
   "source": [
    "x_train = x_train.reshape(1959,3*168*192)       # reshape size convert from 4d to 2d (n of sample , hight*width*3)\n",
    "                                                #(1959, 168, 192, 3) ---->(1959,3*168*192) ---->(1959, 96768)\n",
    "\n",
    "x_test = x_test.reshape(490,3*168*192)\n",
    "print(x_train.shape)\n",
    "print(x_test.shape)\n",
    "\n",
    "#X_train_scaled = x_train / 255\n",
    "#X_test_scaled = x_test / 255"
   ]
  },
  {
   "cell_type": "code",
   "execution_count": 57,
   "id": "4b8d4c76",
   "metadata": {},
   "outputs": [],
   "source": [
    "from sklearn.preprocessing import StandardScaler\n",
    "scaler=StandardScaler()\n",
    "scaler.fit(x_train)\n",
    "                                                         #scale thr feature engineer to able to genetate in model \n",
    "X_train_scaled = scaler.transform(x_train)               #Standardize features by removing the mean and scaling to unit variance\n",
    "X_test_scaled = scaler.transform(x_test)"
   ]
  },
  {
   "cell_type": "code",
   "execution_count": 84,
   "id": "a506511e",
   "metadata": {
    "scrolled": true
   },
   "outputs": [
    {
     "name": "stdout",
     "output_type": "stream",
     "text": [
      "Model: \"sequential_12\"\n",
      "_________________________________________________________________\n",
      " Layer (type)                Output Shape              Param #   \n",
      "=================================================================\n",
      " dense_36 (Dense)            (None, 128)               12386432  \n",
      "                                                                 \n",
      " dense_37 (Dense)            (None, 64)                8256      \n",
      "                                                                 \n",
      " dense_38 (Dense)            (None, 1)                 65        \n",
      "                                                                 \n",
      "=================================================================\n",
      "Total params: 12,394,753\n",
      "Trainable params: 12,394,753\n",
      "Non-trainable params: 0\n",
      "_________________________________________________________________\n"
     ]
    }
   ],
   "source": [
    "model = Sequential()\n",
    "model.add(Dense(128, input_dim=96768, activation='relu'))             #model plain stack of layers where each layer has exactly one input tensor and one output tensor.\n",
    "model.add(Dense(64, activation='relu'))                               #deeply connected with its preceding layer \n",
    "#Output layer\n",
    "model.add(Dense(1, activation='linear'))\n",
    "\n",
    "model.compile(optimizer='adam',                                    #replacement optimization algorithm for stochastic gradient descent for training deep learning models\n",
    "              loss=tf.keras.losses.SparseCategoricalCrossentropy(from_logits=True), #loss between the labels and predictions.\n",
    "              metrics=['accuracy'])\n",
    "\n",
    "model.summary()"
   ]
  },
  {
   "cell_type": "code",
   "execution_count": 175,
   "id": "84f93f72",
   "metadata": {},
   "outputs": [
    {
     "name": "stdout",
     "output_type": "stream",
     "text": [
      "Epoch 1/2\n",
      "62/62 [==============================] - 2s 27ms/step - loss: 0.0758 - accuracy: 0.9969\n",
      "Epoch 2/2\n",
      "62/62 [==============================] - 2s 27ms/step - loss: 0.0657 - accuracy: 0.9969\n"
     ]
    }
   ],
   "source": [
    "history = model.fit(X_train_scaled, y_train, epochs =2)             "
   ]
  },
  {
   "cell_type": "code",
   "execution_count": null,
   "id": "aed26869",
   "metadata": {},
   "outputs": [],
   "source": []
  },
  {
   "cell_type": "code",
   "execution_count": null,
   "id": "efa0dc07",
   "metadata": {},
   "outputs": [],
   "source": [
    "#another model"
   ]
  },
  {
   "cell_type": "code",
   "execution_count": 152,
   "id": "1884d020",
   "metadata": {},
   "outputs": [
    {
     "name": "stdout",
     "output_type": "stream",
     "text": [
      "Model: \"sequential_27\"\n",
      "_________________________________________________________________\n",
      " Layer (type)                Output Shape              Param #   \n",
      "=================================================================\n",
      " dense_70 (Dense)            (None, 30)                2903070   \n",
      "                                                                 \n",
      " dropout_16 (Dropout)        (None, 30)                0         \n",
      "                                                                 \n",
      " dense_71 (Dense)            (None, 20)                620       \n",
      "                                                                 \n",
      " dropout_17 (Dropout)        (None, 20)                0         \n",
      "                                                                 \n",
      " dense_72 (Dense)            (None, 38)                798       \n",
      "                                                                 \n",
      "=================================================================\n",
      "Total params: 2,904,488\n",
      "Trainable params: 2,904,488\n",
      "Non-trainable params: 0\n",
      "_________________________________________________________________\n"
     ]
    }
   ],
   "source": [
    "\n",
    "num_classes = 38\n",
    "model = Sequential()\n",
    "model.add(Dense(30, activation='relu', input_shape=(96768,)))\n",
    "model.add(Dropout(0.2))\n",
    "model.add(Dense(20, activation='relu'))\n",
    "model.add(Dropout(0.2))\n",
    "model.add(Dense(num_classes, activation='sigmoid'))\n",
    "\n",
    "model.summary()"
   ]
  },
  {
   "cell_type": "code",
   "execution_count": 153,
   "id": "af6c2d0b",
   "metadata": {},
   "outputs": [],
   "source": [
    "model.compile(optimizer='adam',\n",
    "              loss=tf.keras.losses.SparseCategoricalCrossentropy(from_logits=True),\n",
    "              metrics=['accuracy'])"
   ]
  },
  {
   "cell_type": "code",
   "execution_count": 154,
   "id": "6fca88e2",
   "metadata": {},
   "outputs": [
    {
     "name": "stdout",
     "output_type": "stream",
     "text": [
      "Epoch 1/10\n",
      "62/62 [==============================] - 2s 26ms/step - loss: 10.3950 - accuracy: 0.6626\n",
      "Epoch 2/10\n",
      "62/62 [==============================] - 2s 26ms/step - loss: 0.9428 - accuracy: 0.9520\n",
      "Epoch 3/10\n",
      "62/62 [==============================] - 2s 26ms/step - loss: 0.2765 - accuracy: 0.9791\n",
      "Epoch 4/10\n",
      "62/62 [==============================] - 2s 26ms/step - loss: 0.1990 - accuracy: 0.9903\n",
      "Epoch 5/10\n",
      "62/62 [==============================] - 2s 26ms/step - loss: 0.2085 - accuracy: 0.9877\n",
      "Epoch 6/10\n",
      "62/62 [==============================] - 2s 26ms/step - loss: 0.0649 - accuracy: 0.9969\n",
      "Epoch 7/10\n",
      "62/62 [==============================] - 2s 26ms/step - loss: 0.1782 - accuracy: 0.9888\n",
      "Epoch 8/10\n",
      "62/62 [==============================] - 2s 26ms/step - loss: 0.0867 - accuracy: 0.9949\n",
      "Epoch 9/10\n",
      "62/62 [==============================] - 2s 26ms/step - loss: 0.0361 - accuracy: 0.9990\n",
      "Epoch 10/10\n",
      "62/62 [==============================] - 2s 26ms/step - loss: 0.0136 - accuracy: 0.9980\n"
     ]
    }
   ],
   "source": [
    "batch_size = 32\n",
    "epochs = 10\n",
    "history = model.fit(X_train_scaled, y_train,\n",
    "                    batch_size=batch_size,\n",
    "                    epochs=epochs,\n",
    "                    verbose=1)"
   ]
  },
  {
   "cell_type": "code",
   "execution_count": null,
   "id": "c7aeece7",
   "metadata": {},
   "outputs": [],
   "source": []
  },
  {
   "cell_type": "code",
   "execution_count": null,
   "id": "f18ded38",
   "metadata": {},
   "outputs": [],
   "source": [
    "#data data_augmentation"
   ]
  },
  {
   "cell_type": "code",
   "execution_count": 171,
   "id": "07484f81",
   "metadata": {},
   "outputs": [],
   "source": [
    "data_augmentation = keras.Sequential(\n",
    "  [\n",
    "    layers.experimental.preprocessing.RandomFlip(\"horizontal\", \n",
    "                                                 input_shape=(168, \n",
    "                                                              192,\n",
    "                                                              3)),\n",
    "    layers.experimental.preprocessing.RandomRotation(0.1),\n",
    "    layers.experimental.preprocessing.RandomZoom(0.1),\n",
    "  ]\n",
    ")"
   ]
  },
  {
   "cell_type": "code",
   "execution_count": 172,
   "id": "df3cd349",
   "metadata": {},
   "outputs": [
    {
     "name": "stdout",
     "output_type": "stream",
     "text": [
      "Model: \"sequential_33\"\n",
      "_________________________________________________________________\n",
      " Layer (type)                Output Shape              Param #   \n",
      "=================================================================\n",
      " dense_79 (Dense)            (None, 30)                2903070   \n",
      "                                                                 \n",
      " dropout_22 (Dropout)        (None, 30)                0         \n",
      "                                                                 \n",
      " dense_80 (Dense)            (None, 20)                620       \n",
      "                                                                 \n",
      " dropout_23 (Dropout)        (None, 20)                0         \n",
      "                                                                 \n",
      " dense_81 (Dense)            (None, 38)                798       \n",
      "                                                                 \n",
      "=================================================================\n",
      "Total params: 2,904,488\n",
      "Trainable params: 2,904,488\n",
      "Non-trainable params: 0\n",
      "_________________________________________________________________\n"
     ]
    }
   ],
   "source": [
    "data_augmentation,\n",
    "num_classes = 38\n",
    "model = Sequential()\n",
    "model.add(Dense(30, activation='relu', input_shape=(96768,)))\n",
    "model.add(Dropout(0.2))\n",
    "model.add(Dense(20, activation='relu'))\n",
    "model.add(Dropout(0.2))\n",
    "model.add(Dense(num_classes, activation='sigmoid'))\n",
    "\n",
    "model.summary()"
   ]
  },
  {
   "cell_type": "code",
   "execution_count": 173,
   "id": "5cb95409",
   "metadata": {},
   "outputs": [],
   "source": [
    "model.compile(optimizer='adam',\n",
    "              loss=tf.keras.losses.SparseCategoricalCrossentropy(from_logits=True),\n",
    "              metrics=['accuracy'])"
   ]
  },
  {
   "cell_type": "code",
   "execution_count": 174,
   "id": "cb5e626b",
   "metadata": {},
   "outputs": [
    {
     "name": "stdout",
     "output_type": "stream",
     "text": [
      "Epoch 1/10\n",
      "62/62 [==============================] - 2s 27ms/step - loss: 9.2657 - accuracy: 0.6100\n",
      "Epoch 2/10\n",
      "62/62 [==============================] - 2s 27ms/step - loss: 1.5838 - accuracy: 0.8811\n",
      "Epoch 3/10\n",
      "62/62 [==============================] - 2s 27ms/step - loss: 0.6980 - accuracy: 0.9515\n",
      "Epoch 4/10\n",
      "62/62 [==============================] - 2s 27ms/step - loss: 0.3659 - accuracy: 0.9821\n",
      "Epoch 5/10\n",
      "62/62 [==============================] - 2s 27ms/step - loss: 0.2718 - accuracy: 0.9893\n",
      "Epoch 6/10\n",
      "62/62 [==============================] - 2s 27ms/step - loss: 0.1286 - accuracy: 0.9918\n",
      "Epoch 7/10\n",
      "62/62 [==============================] - 2s 27ms/step - loss: 0.0963 - accuracy: 0.9944\n",
      "Epoch 8/10\n",
      "62/62 [==============================] - 2s 26ms/step - loss: 0.0324 - accuracy: 0.9964\n",
      "Epoch 9/10\n",
      "62/62 [==============================] - 2s 27ms/step - loss: 0.0231 - accuracy: 0.9980\n",
      "Epoch 10/10\n",
      "62/62 [==============================] - 2s 26ms/step - loss: 0.0561 - accuracy: 0.9980\n"
     ]
    }
   ],
   "source": [
    "batch_size = 32\n",
    "epochs = 10\n",
    "history = model.fit(X_train_scaled, y_train,\n",
    "                    batch_size=batch_size,\n",
    "                    epochs=epochs,\n",
    "                    verbose=1)"
   ]
  },
  {
   "cell_type": "code",
   "execution_count": null,
   "id": "a329fbd3",
   "metadata": {},
   "outputs": [],
   "source": []
  },
  {
   "cell_type": "code",
   "execution_count": 161,
   "id": "657edea7",
   "metadata": {},
   "outputs": [],
   "source": []
  },
  {
   "cell_type": "code",
   "execution_count": null,
   "id": "e522fe31",
   "metadata": {},
   "outputs": [],
   "source": []
  }
 ],
 "metadata": {
  "kernelspec": {
   "display_name": "Python 3 (ipykernel)",
   "language": "python",
   "name": "python3"
  },
  "language_info": {
   "codemirror_mode": {
    "name": "ipython",
    "version": 3
   },
   "file_extension": ".py",
   "mimetype": "text/x-python",
   "name": "python",
   "nbconvert_exporter": "python",
   "pygments_lexer": "ipython3",
   "version": "3.9.7"
  }
 },
 "nbformat": 4,
 "nbformat_minor": 5
}
