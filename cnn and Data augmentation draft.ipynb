{
 "cells": [
  {
   "cell_type": "code",
   "execution_count": 119,
   "id": "075dc92a",
   "metadata": {},
   "outputs": [],
   "source": [
    "import os\n",
    "\n",
    "import numpy as np\n",
    "\n",
    "import shutil\n",
    "import numpy as np\n",
    "import random\n",
    "import matplotlib.pyplot as plt\n",
    "from tensorflow.keras.models import Sequential\n",
    "from tensorflow.keras.layers import Conv2D, MaxPooling2D, Dense, Flatten"
   ]
  },
  {
   "cell_type": "code",
   "execution_count": 120,
   "id": "9e7891cc",
   "metadata": {},
   "outputs": [],
   "source": [
    "rootdir= 'C:/Users/Hp/Downloads/CroppedYale' #path of the original folder\n",
    "\n",
    "classes = ['yaleB01' , \n",
    "               'yaleB02'  , \n",
    "               'yaleB03' , \n",
    "               'yaleB04' , \n",
    "               'yaleB05'  , \n",
    "               'yaleB06'  , \n",
    "               'yaleB07'  , \n",
    "               'yaleB08'  , \n",
    "               'yaleB09'  , \n",
    "               'yaleB10' , \n",
    "               'yaleB11' , \n",
    "               'yaleB12' , \n",
    "               'yaleB13' , \n",
    "               'yaleB15' , \n",
    "               'yaleB16' , \n",
    "               'yaleB17' , \n",
    "               'yaleB18' , \n",
    "               'yaleB19' , \n",
    "               'yaleB20' , \n",
    "               'yaleB21' , \n",
    "               'yaleB22' , \n",
    "               'yaleB23' , \n",
    "               'yaleB24' , \n",
    "               'yaleB25' , \n",
    "               'yaleB26' , \n",
    "               'yaleB27' , \n",
    "               'yaleB28' , \n",
    "               'yaleB29' , \n",
    "               'yaleB30' , \n",
    "               'yaleB31' , \n",
    "               'yaleB32' , \n",
    "               'yaleB33' , \n",
    "               'yaleB34' , \n",
    "               'yaleB35' , \n",
    "               'yaleB36' , \n",
    "               'yaleB37' , \n",
    "               'yaleB38' ,\n",
    "               'yaleB39']"
   ]
  },
  {
   "cell_type": "code",
   "execution_count": 124,
   "id": "2faed5e9",
   "metadata": {},
   "outputs": [
    {
     "name": "stdout",
     "output_type": "stream",
     "text": [
      "['C:/Users/Hp/Downloads/CroppedYale/yaleB39/yaleB39_P00A-015E+20.jpg', 'C:/Users/Hp/Downloads/CroppedYale/yaleB39/yaleB39_P00A+000E+45.jpg', 'C:/Users/Hp/Downloads/CroppedYale/yaleB39/yaleB39_P00_Ambient.jpg', 'C:/Users/Hp/Downloads/CroppedYale/yaleB39/yaleB39_P00A+085E+20.jpg', 'C:/Users/Hp/Downloads/CroppedYale/yaleB39/yaleB39_P00A+020E+10.jpg', 'C:/Users/Hp/Downloads/CroppedYale/yaleB39/yaleB39_P00A+110E+40.jpg', 'C:/Users/Hp/Downloads/CroppedYale/yaleB39/yaleB39_P00A-050E+00.jpg', 'C:/Users/Hp/Downloads/CroppedYale/yaleB39/yaleB39_P00A-050E-40.jpg', 'C:/Users/Hp/Downloads/CroppedYale/yaleB39/yaleB39_P00A-070E+45.jpg', 'C:/Users/Hp/Downloads/CroppedYale/yaleB39/yaleB39_P00A+070E+45.jpg', 'C:/Users/Hp/Downloads/CroppedYale/yaleB39/yaleB39_P00A-020E-10.jpg', 'C:/Users/Hp/Downloads/CroppedYale/yaleB39/yaleB39_P00A+000E+20.jpg', 'C:/Users/Hp/Downloads/CroppedYale/yaleB39/yaleB39_P00A+070E-35.jpg', 'C:/Users/Hp/Downloads/CroppedYale/yaleB39/yaleB39_P00A+005E-10.jpg', 'C:/Users/Hp/Downloads/CroppedYale/yaleB39/yaleB39_P00A-020E-40.jpg', 'C:/Users/Hp/Downloads/CroppedYale/yaleB39/yaleB39_P00A-120E+00.jpg', 'C:/Users/Hp/Downloads/CroppedYale/yaleB39/yaleB39_P00A+050E-40.jpg', 'C:/Users/Hp/Downloads/CroppedYale/yaleB39/yaleB39_P00A-035E+40.jpg', 'C:/Users/Hp/Downloads/CroppedYale/yaleB39/yaleB39_P00A-110E+40.jpg', 'C:/Users/Hp/Downloads/CroppedYale/yaleB39/yaleB39_P00A+050E+00.jpg', 'C:/Users/Hp/Downloads/CroppedYale/yaleB39/yaleB39_P00A+120E+00.jpg', 'C:/Users/Hp/Downloads/CroppedYale/yaleB39/yaleB39_P00A-005E+10.jpg', 'C:/Users/Hp/Downloads/CroppedYale/yaleB39/yaleB39_P00A-060E-20.jpg', 'C:/Users/Hp/Downloads/CroppedYale/yaleB39/yaleB39_P00A+130E+20.jpg', 'C:/Users/Hp/Downloads/CroppedYale/yaleB39/yaleB39_P00A+005E+10.jpg', 'C:/Users/Hp/Downloads/CroppedYale/yaleB39/yaleB39_P00A+095E+00.jpg', 'C:/Users/Hp/Downloads/CroppedYale/yaleB39/yaleB39_P00A-010E+00.jpg', 'C:/Users/Hp/Downloads/CroppedYale/yaleB39/yaleB39_P00A-035E-20.jpg', 'C:/Users/Hp/Downloads/CroppedYale/yaleB39/yaleB39_P00A+020E-40.jpg', 'C:/Users/Hp/Downloads/CroppedYale/yaleB39/yaleB39_P00A-130E+20.jpg', 'C:/Users/Hp/Downloads/CroppedYale/yaleB39/yaleB39_P00A+025E+00.jpg', 'C:/Users/Hp/Downloads/CroppedYale/yaleB39/yaleB39_P00A-010E-20.jpg', 'C:/Users/Hp/Downloads/CroppedYale/yaleB39/yaleB39_P00A-070E-35.jpg', 'C:/Users/Hp/Downloads/CroppedYale/yaleB39/yaleB39_P00A+020E-10.jpg', 'C:/Users/Hp/Downloads/CroppedYale/yaleB39/yaleB39_P00A+000E-35.jpg', 'C:/Users/Hp/Downloads/CroppedYale/yaleB39/yaleB39_P00A+070E+00.jpg', 'C:/Users/Hp/Downloads/CroppedYale/yaleB39/yaleB39_P00A-060E+20.jpg', 'C:/Users/Hp/Downloads/CroppedYale/yaleB39/yaleB39_P00A+010E-20.jpg', 'C:/Users/Hp/Downloads/CroppedYale/yaleB39/3d 12 Haneen Amer 18102149.rar', 'C:/Users/Hp/Downloads/CroppedYale/yaleB39/yaleB39_P00A+000E-20.jpg', 'C:/Users/Hp/Downloads/CroppedYale/yaleB39/yaleB39_P00A+035E+65.jpg', 'C:/Users/Hp/Downloads/CroppedYale/yaleB39/yaleB39_P00A-110E-20.jpg', 'C:/Users/Hp/Downloads/CroppedYale/yaleB39/WS_FTP.LOG', 'C:/Users/Hp/Downloads/CroppedYale/yaleB39/yaleB39_P00A-110E+65.jpg', 'C:/Users/Hp/Downloads/CroppedYale/yaleB39/yaleB39_P00A+085E-20.jpg', 'C:/Users/Hp/Downloads/CroppedYale/yaleB39/yaleB39_P00A+010E+00.jpg', 'C:/Users/Hp/Downloads/CroppedYale/yaleB39/yaleB39_P00A-020E+10.jpg', 'C:/Users/Hp/Downloads/CroppedYale/yaleB39/yaleB39_P00A-085E+20.jpg', 'C:/Users/Hp/Downloads/CroppedYale/yaleB39/yaleB39_P00A+000E+00.jpg', 'C:/Users/Hp/Downloads/CroppedYale/yaleB39/yaleB39_P00A-005E-10.jpg', 'C:/Users/Hp/Downloads/CroppedYale/yaleB39/yaleB39_P00A+060E-20.jpg', 'C:/Users/Hp/Downloads/CroppedYale/yaleB39/yaleB39_P00A+110E-20.jpg', 'C:/Users/Hp/Downloads/CroppedYale/yaleB39/yaleB39_P00A-085E-20.jpg', 'C:/Users/Hp/Downloads/CroppedYale/yaleB39/yaleB39_P00.info']\n"
     ]
    }
   ],
   "source": [
    "for i in classes:\n",
    "    os.makedirs(rootdir +'/train/' + i)\n",
    "    os.makedirs(rootdir +'/test/' + i)\n",
    "    source = rootdir + '/' + i\n",
    "    allFileNames = os.listdir(source)\n",
    "    np.random.shuffle(allFileNames)\n",
    "\n",
    "    test_ratio = 0.2\n",
    "\n",
    "    train_FileNames, test_FileNames = np.split(np.array(allFileNames),\n",
    "                                                      [int(len(allFileNames)* (1 - test_ratio))])\n",
    "\n",
    "    train_FileNames = [source+'/'+ name for name in train_FileNames.tolist()]\n",
    "    test_FileNames = [source+'/' + name for name in test_FileNames.tolist()]\n",
    "\n",
    "    for name in train_FileNames:\n",
    "        shutil.copy(name, rootdir +'/train/' + i)\n",
    "\n",
    "    for name in test_FileNames:\n",
    "        shutil.copy(name, rootdir +'/test/' + i)\n",
    "\n",
    "print(train_FileNames)\n"
   ]
  },
  {
   "cell_type": "code",
   "execution_count": 125,
   "id": "98cbcd8f",
   "metadata": {},
   "outputs": [],
   "source": [
    "import tensorflow as tf\n",
    "from tensorflow.keras.preprocessing.image import ImageDataGenerator\n",
    "from tensorflow.keras.models import Sequential\n",
    "from tensorflow.keras.layers import Dense, Dropout, Activation, Flatten\n",
    "from tensorflow.keras.layers import Conv2D, MaxPooling2D"
   ]
  },
  {
   "cell_type": "code",
   "execution_count": 126,
   "id": "f353b583",
   "metadata": {},
   "outputs": [],
   "source": [
    "train = ImageDataGenerator(rescale = 1/225)\n",
    "validation = ImageDataGenerator(rescale = 1/225)"
   ]
  },
  {
   "cell_type": "code",
   "execution_count": 127,
   "id": "813e223a",
   "metadata": {},
   "outputs": [
    {
     "name": "stdout",
     "output_type": "stream",
     "text": [
      "Found 1933 images belonging to 38 classes.\n"
     ]
    }
   ],
   "source": [
    "training_set = train.flow_from_directory('C:/Users/Hp/Downloads/CroppedYale/train',\n",
    "                                                 target_size = (192,168),\n",
    "                                                 batch_size = 10,\n",
    "                                                 class_mode = 'categorical')"
   ]
  },
  {
   "cell_type": "code",
   "execution_count": 128,
   "id": "d5021cb5",
   "metadata": {},
   "outputs": [
    {
     "name": "stdout",
     "output_type": "stream",
     "text": [
      "Found 516 images belonging to 38 classes.\n"
     ]
    }
   ],
   "source": [
    "test_set = validation.flow_from_directory('C:/Users/Hp/Downloads/CroppedYale/test',\n",
    "                                            target_size = (192,168),\n",
    "                                            batch_size = 10,\n",
    "                                            class_mode = 'categorical')"
   ]
  },
  {
   "cell_type": "code",
   "execution_count": 129,
   "id": "13644b57",
   "metadata": {},
   "outputs": [],
   "source": [
    "data_augmentation = keras.Sequential(\n",
    "  [\n",
    "    layers.experimental.preprocessing.RandomFlip(\"horizontal\", \n",
    "                                                 input_shape=(192, \n",
    "                                                              168,\n",
    "                                                              3)),\n",
    "    layers.experimental.preprocessing.RandomRotation(0.1),\n",
    "    layers.experimental.preprocessing.RandomZoom(0.1),\n",
    "  ]\n",
    ")"
   ]
  },
  {
   "cell_type": "code",
   "execution_count": 135,
   "id": "4d5b3d89",
   "metadata": {},
   "outputs": [
    {
     "name": "stdout",
     "output_type": "stream",
     "text": [
      "Model: \"sequential_24\"\n",
      "_________________________________________________________________\n",
      " Layer (type)                Output Shape              Param #   \n",
      "=================================================================\n",
      " conv2d_29 (Conv2D)          (None, 192, 168, 32)      896       \n",
      "                                                                 \n",
      " conv2d_30 (Conv2D)          (None, 192, 168, 32)      9248      \n",
      "                                                                 \n",
      " max_pooling2d_16 (MaxPoolin  (None, 96, 84, 32)       0         \n",
      " g2D)                                                            \n",
      "                                                                 \n",
      " dropout_22 (Dropout)        (None, 96, 84, 32)        0         \n",
      "                                                                 \n",
      " conv2d_31 (Conv2D)          (None, 96, 84, 64)        18496     \n",
      "                                                                 \n",
      " conv2d_32 (Conv2D)          (None, 96, 84, 64)        36928     \n",
      "                                                                 \n",
      " max_pooling2d_17 (MaxPoolin  (None, 48, 42, 64)       0         \n",
      " g2D)                                                            \n",
      "                                                                 \n",
      " dropout_23 (Dropout)        (None, 48, 42, 64)        0         \n",
      "                                                                 \n",
      " flatten_8 (Flatten)         (None, 129024)            0         \n",
      "                                                                 \n",
      " dense_52 (Dense)            (None, 128)               16515200  \n",
      "                                                                 \n",
      " dropout_24 (Dropout)        (None, 128)               0         \n",
      "                                                                 \n",
      " dense_53 (Dense)            (None, 38)                4902      \n",
      "                                                                 \n",
      "=================================================================\n",
      "Total params: 16,585,670\n",
      "Trainable params: 16,585,670\n",
      "Non-trainable params: 0\n",
      "_________________________________________________________________\n",
      "Epoch 1/15\n",
      "194/194 [==============================] - 160s 821ms/step - loss: 3.6619 - accuracy: 0.0202 - val_loss: 3.6376 - val_accuracy: 0.0271\n",
      "Epoch 2/15\n",
      "194/194 [==============================] - 159s 821ms/step - loss: 3.6393 - accuracy: 0.0269 - val_loss: 3.6366 - val_accuracy: 0.0271\n",
      "Epoch 3/15\n",
      "194/194 [==============================] - 159s 818ms/step - loss: 3.6394 - accuracy: 0.0238 - val_loss: 3.6372 - val_accuracy: 0.0252\n",
      "Epoch 4/15\n",
      "194/194 [==============================] - 159s 822ms/step - loss: 3.5772 - accuracy: 0.0605 - val_loss: 3.0855 - val_accuracy: 0.2016\n",
      "Epoch 5/15\n",
      "194/194 [==============================] - 161s 828ms/step - loss: 1.6785 - accuracy: 0.5598 - val_loss: 0.1280 - val_accuracy: 0.9806\n",
      "Epoch 6/15\n",
      "194/194 [==============================] - 161s 831ms/step - loss: 0.2225 - accuracy: 0.9467 - val_loss: 0.0945 - val_accuracy: 0.9826\n",
      "Epoch 7/15\n",
      "194/194 [==============================] - 161s 831ms/step - loss: 0.1289 - accuracy: 0.9638 - val_loss: 0.0899 - val_accuracy: 0.9826\n",
      "Epoch 8/15\n",
      "194/194 [==============================] - 164s 846ms/step - loss: 0.0903 - accuracy: 0.9772 - val_loss: 0.0966 - val_accuracy: 0.9806\n",
      "Epoch 9/15\n",
      "194/194 [==============================] - 166s 857ms/step - loss: 0.0769 - accuracy: 0.9778 - val_loss: 0.0998 - val_accuracy: 0.9826\n",
      "Epoch 10/15\n",
      "194/194 [==============================] - 167s 860ms/step - loss: 0.0706 - accuracy: 0.9819 - val_loss: 0.1118 - val_accuracy: 0.9806\n",
      "Epoch 11/15\n",
      "194/194 [==============================] - 171s 880ms/step - loss: 0.0539 - accuracy: 0.9834 - val_loss: 0.1372 - val_accuracy: 0.9826\n",
      "Epoch 12/15\n",
      "194/194 [==============================] - 187s 965ms/step - loss: 0.0456 - accuracy: 0.9902 - val_loss: 0.0969 - val_accuracy: 0.9826\n",
      "Epoch 13/15\n",
      "194/194 [==============================] - 168s 866ms/step - loss: 0.0406 - accuracy: 0.9871 - val_loss: 0.1378 - val_accuracy: 0.9826\n",
      "Epoch 14/15\n",
      "194/194 [==============================] - 163s 842ms/step - loss: 0.0277 - accuracy: 0.9922 - val_loss: 0.1816 - val_accuracy: 0.9826\n",
      "Epoch 15/15\n",
      "194/194 [==============================] - 173s 893ms/step - loss: 0.0220 - accuracy: 0.9928 - val_loss: 0.2060 - val_accuracy: 0.9826\n"
     ]
    }
   ],
   "source": [
    "num_classes = 38\n",
    "input_shape = (192, 168, 3)\n",
    "\n",
    "data_augmentation,\n",
    "model = Sequential()\n",
    "model.add(Conv2D(32, kernel_size=(3, 3),activation='relu',padding = 'Same',input_shape=input_shape))\n",
    "model.add(Conv2D(32,kernel_size=(3, 3), activation='relu',padding = 'Same',))\n",
    "model.add(MaxPool2D(pool_size = (2, 2)))\n",
    "model.add(Dropout(0.25))\n",
    "\n",
    "model.add(Conv2D(64, (3, 3), activation='relu',padding = 'Same'))\n",
    "model.add(Conv2D(64, (3, 3), activation='relu',padding = 'Same'))\n",
    "model.add(MaxPool2D(pool_size=(2, 2)))\n",
    "model.add(Dropout(0.40))\n",
    "\n",
    "model.add(Flatten())\n",
    "model.add(Dense(128, activation='relu'))\n",
    "model.add(Dropout(0.5))\n",
    "model.add(Dense(num_classes, activation='softmax'))\n",
    "model.summary()\n",
    "model.compile(\n",
    "  loss='categorical_crossentropy',\n",
    "  optimizer='adam',\n",
    "  metrics=['accuracy']\n",
    ")\n",
    "              \n",
    "model_fit = model.fit(training_set , \n",
    "                     #steps_per_epoch = 3 ,\n",
    "                     epochs = 15 ,\n",
    "                     validation_data = test_set)"
   ]
  },
  {
   "cell_type": "code",
   "execution_count": 136,
   "id": "d1b149f6",
   "metadata": {},
   "outputs": [
    {
     "name": "stderr",
     "output_type": "stream",
     "text": [
      "C:\\Users\\Hp\\AppData\\Local\\Temp/ipykernel_15088/322241077.py:1: UserWarning: `Model.evaluate_generator` is deprecated and will be removed in a future version. Please use `Model.evaluate`, which supports generators.\n",
      "  train_loss , train_acc = model.evaluate_generator(training_set , steps=16)     ###evaluate model\n",
      "C:\\Users\\Hp\\AppData\\Local\\Temp/ipykernel_15088/322241077.py:2: UserWarning: `Model.evaluate_generator` is deprecated and will be removed in a future version. Please use `Model.evaluate`, which supports generators.\n",
      "  validation_loss, test_acc = model.evaluate_generator(test_set , steps =16)\n"
     ]
    },
    {
     "name": "stdout",
     "output_type": "stream",
     "text": [
      "train_acc: 1.000 , test_acc: 0.975\n"
     ]
    }
   ],
   "source": [
    "train_loss , train_acc = model.evaluate_generator(training_set , steps=16)     ###evaluate model\n",
    "validation_loss, test_acc = model.evaluate_generator(test_set , steps =16)\n",
    "print('train_acc: %.3f , test_acc: %.3f' %(train_acc ,test_acc))"
   ]
  },
  {
   "cell_type": "code",
   "execution_count": 137,
   "id": "a51ae316",
   "metadata": {
    "scrolled": true
   },
   "outputs": [
    {
     "name": "stderr",
     "output_type": "stream",
     "text": [
      "C:\\Users\\Hp\\AppData\\Local\\Temp/ipykernel_15088/923909745.py:1: UserWarning: `Model.evaluate_generator` is deprecated and will be removed in a future version. Please use `Model.evaluate`, which supports generators.\n",
      "  train_loss , train_acc = model.evaluate_generator(training_set , steps=16)     ###evaluate model\n",
      "C:\\Users\\Hp\\AppData\\Local\\Temp/ipykernel_15088/923909745.py:2: UserWarning: `Model.evaluate_generator` is deprecated and will be removed in a future version. Please use `Model.evaluate`, which supports generators.\n",
      "  validation_loss, test_acc = model.evaluate_generator(test_set , steps =16)\n"
     ]
    },
    {
     "name": "stdout",
     "output_type": "stream",
     "text": [
      "train_loss  0.000, validation_loss: 0.126\n"
     ]
    }
   ],
   "source": [
    "train_loss , train_acc = model.evaluate_generator(training_set , steps=16)     ###evaluate model\n",
    "validation_loss, test_acc = model.evaluate_generator(test_set , steps =16)\n",
    "print('train_loss  %.3f, validation_loss: %.3f' %(train_loss ,validation_loss))"
   ]
  },
  {
   "cell_type": "code",
   "execution_count": 142,
   "id": "1e2525e8",
   "metadata": {},
   "outputs": [
    {
     "data": {
      "image/png": "[encoded data removed]",
      "text/plain": [
       "<Figure size 432x288 with 1 Axes>"
      ]
     },
     "metadata": {
      "needs_background": "light"
     },
     "output_type": "display_data"
    }
   ],
   "source": [
    "loss_train =model_fit.history['loss']\n",
    "loss_val =  model_fit.history['val_loss']\n",
    "epochs = range(0,15)\n",
    "plt.plot(epochs, loss_train, 'g', label='Training loss')\n",
    "plt.plot(epochs, loss_val, 'b', label='validation loss')\n",
    "plt.title('Training and Validation loss')\n",
    "plt.xlabel('Epochs')\n",
    "plt.ylabel('loss')\n",
    "plt.legend()\n",
    "plt.show()"
   ]
  },
  {
   "cell_type": "code",
   "execution_count": null,
   "id": "e065ff98",
   "metadata": {},
   "outputs": [],
   "source": []
  }
 ],
 "metadata": {
  "kernelspec": {
   "display_name": "Python 3 (ipykernel)",
   "language": "python",
   "name": "python3"
  },
  "language_info": {
   "codemirror_mode": {
    "name": "ipython",
    "version": 3
   },
   "file_extension": ".py",
   "mimetype": "text/x-python",
   "name": "python",
   "nbconvert_exporter": "python",
   "pygments_lexer": "ipython3",
   "version": "3.9.12"
  }
 },
 "nbformat": 4,
 "nbformat_minor": 5
}
