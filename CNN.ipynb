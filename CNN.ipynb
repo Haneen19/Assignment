{
 "cells": [
  {
   "cell_type": "code",
   "execution_count": 1,
   "id": "3d02a3f9",
   "metadata": {},
   "outputs": [],
   "source": [
    "import os\n",
    "\n",
    "import numpy as np\n",
    "\n",
    "import shutil\n",
    "import numpy as np\n",
    "import random\n",
    "import matplotlib.pyplot as plt\n",
    "from keras.models import Sequential\n",
    "\n",
    "from tensorflow.keras.models import Sequential\n",
    "from tensorflow.keras.layers import Conv2D, MaxPooling2D, Dense, Flatten"
   ]
  },
  {
   "cell_type": "code",
   "execution_count": 2,
   "id": "bde62812",
   "metadata": {},
   "outputs": [],
   "source": [
    "rootdir= 'C:/Users/Hp/Downloads/CroppedYale' #path of the original folder\n",
    "\n",
    "classes = ['yaleB01' , \n",
    "               'yaleB02'  , \n",
    "               'yaleB03' , \n",
    "               'yaleB04' , \n",
    "               'yaleB05'  , \n",
    "               'yaleB06'  , \n",
    "               'yaleB07'  , \n",
    "               'yaleB08'  , \n",
    "               'yaleB09'  , \n",
    "               'yaleB10' , \n",
    "               'yaleB11' , \n",
    "               'yaleB12' , \n",
    "               'yaleB13' , \n",
    "               'yaleB15' , \n",
    "               'yaleB16' , \n",
    "               'yaleB17' , \n",
    "               'yaleB18' , \n",
    "               'yaleB19' , \n",
    "               'yaleB20' , \n",
    "               'yaleB21' , \n",
    "               'yaleB22' , \n",
    "               'yaleB23' , \n",
    "               'yaleB24' , \n",
    "               'yaleB25' , \n",
    "               'yaleB26' , \n",
    "               'yaleB27' , \n",
    "               'yaleB28' , \n",
    "               'yaleB29' , \n",
    "               'yaleB30' , \n",
    "               'yaleB31' , \n",
    "               'yaleB32' , \n",
    "               'yaleB33' , \n",
    "               'yaleB34' , \n",
    "               'yaleB35' , \n",
    "               'yaleB36' , \n",
    "               'yaleB37' , \n",
    "               'yaleB38' ,\n",
    "               'yaleB39']"
   ]
  },
  {
   "cell_type": "code",
   "execution_count": 233,
   "id": "3bbbf353",
   "metadata": {
    "scrolled": false
   },
   "outputs": [
    {
     "name": "stdout",
     "output_type": "stream",
     "text": [
      "['C:/Users/Hp/Downloads/CroppedYale/yaleB39/yaleB39_P00A-060E+20.jpg', 'C:/Users/Hp/Downloads/CroppedYale/yaleB39/yaleB39_P00A+020E-40.jpg', 'C:/Users/Hp/Downloads/CroppedYale/yaleB39/yaleB39_P00A+070E+00.jpg', 'C:/Users/Hp/Downloads/CroppedYale/yaleB39/yaleB39_P00A+010E-20.jpg', 'C:/Users/Hp/Downloads/CroppedYale/yaleB39/yaleB39_P00A+000E+20.jpg', 'C:/Users/Hp/Downloads/CroppedYale/yaleB39/yaleB39_P00A+110E+65.jpg', 'C:/Users/Hp/Downloads/CroppedYale/yaleB39/yaleB39_P00.info', 'C:/Users/Hp/Downloads/CroppedYale/yaleB39/yaleB39_P00A-070E+45.jpg', 'C:/Users/Hp/Downloads/CroppedYale/yaleB39/yaleB39_P00A+120E+00.jpg', 'C:/Users/Hp/Downloads/CroppedYale/yaleB39/yaleB39_P00A-070E+00.jpg', 'C:/Users/Hp/Downloads/CroppedYale/yaleB39/yaleB39_P00A-035E-20.jpg', 'C:/Users/Hp/Downloads/CroppedYale/yaleB39/yaleB39_P00A-110E+40.jpg', 'C:/Users/Hp/Downloads/CroppedYale/yaleB39/yaleB39_P00A+010E+00.jpg', 'C:/Users/Hp/Downloads/CroppedYale/yaleB39/yaleB39_P00A+130E+20.jpg', 'C:/Users/Hp/Downloads/CroppedYale/yaleB39/WS_FTP.LOG', 'C:/Users/Hp/Downloads/CroppedYale/yaleB39/yaleB39_P00A-035E+40.jpg', 'C:/Users/Hp/Downloads/CroppedYale/yaleB39/yaleB39_P00A+000E-20.jpg', 'C:/Users/Hp/Downloads/CroppedYale/yaleB39/yaleB39_P00A+000E+90.jpg', 'C:/Users/Hp/Downloads/CroppedYale/yaleB39/yaleB39_P00A-010E+00.jpg', 'C:/Users/Hp/Downloads/CroppedYale/yaleB39/yaleB39_P00A-070E-35.jpg', 'C:/Users/Hp/Downloads/CroppedYale/yaleB39/yaleB39_P00A-085E-20.jpg', 'C:/Users/Hp/Downloads/CroppedYale/yaleB39/yaleB39_P00A-130E+20.jpg', 'C:/Users/Hp/Downloads/CroppedYale/yaleB39/3d 12 Haneen Amer 18102149.rar', 'C:/Users/Hp/Downloads/CroppedYale/yaleB39/yaleB39_P00A+015E+20.jpg', 'C:/Users/Hp/Downloads/CroppedYale/yaleB39/yaleB39_P00A-020E-10.jpg', 'C:/Users/Hp/Downloads/CroppedYale/yaleB39/yaleB39_P00A-025E+00.jpg', 'C:/Users/Hp/Downloads/CroppedYale/yaleB39/yaleB39_P00A+085E+20.jpg', 'C:/Users/Hp/Downloads/CroppedYale/yaleB39/yaleB39_P00A+025E+00.jpg', 'C:/Users/Hp/Downloads/CroppedYale/yaleB39/yaleB39_P00A-005E-10.jpg', 'C:/Users/Hp/Downloads/CroppedYale/yaleB39/yaleB39_P00A-020E+10.jpg', 'C:/Users/Hp/Downloads/CroppedYale/yaleB39/yaleB39_P00A-110E+15.jpg', 'C:/Users/Hp/Downloads/CroppedYale/yaleB39/yaleB39_P00A+005E-10.jpg', 'C:/Users/Hp/Downloads/CroppedYale/yaleB39/yaleB39_P00_Ambient.jpg', 'C:/Users/Hp/Downloads/CroppedYale/yaleB39/yaleB39_P00A+035E+40.jpg', 'C:/Users/Hp/Downloads/CroppedYale/yaleB39/yaleB39_P00A-110E+65.jpg', 'C:/Users/Hp/Downloads/CroppedYale/yaleB39/yaleB39_P00A+000E-35.jpg', 'C:/Users/Hp/Downloads/CroppedYale/yaleB39/yaleB39_P00A+095E+00.jpg', 'C:/Users/Hp/Downloads/CroppedYale/yaleB39/yaleB39_P00A-050E+00.jpg', 'C:/Users/Hp/Downloads/CroppedYale/yaleB39/yaleB39_P00A-095E+00.jpg', 'C:/Users/Hp/Downloads/CroppedYale/yaleB39/yaleB39_P00A-060E-20.jpg', 'C:/Users/Hp/Downloads/CroppedYale/yaleB39/yaleB39_P00A+110E+15.jpg', 'C:/Users/Hp/Downloads/CroppedYale/yaleB39/yaleB39_P00A+070E+45.jpg', 'C:/Users/Hp/Downloads/CroppedYale/yaleB39/yaleB39_P00A-085E+20.jpg', 'C:/Users/Hp/Downloads/CroppedYale/yaleB39/yaleB39_P00A+035E+65.jpg', 'C:/Users/Hp/Downloads/CroppedYale/yaleB39/yaleB39_P00A-120E+00.jpg', 'C:/Users/Hp/Downloads/CroppedYale/yaleB39/yaleB39_P00A-035E+15.jpg', 'C:/Users/Hp/Downloads/CroppedYale/yaleB39/yaleB39_P00A+000E+00.jpg', 'C:/Users/Hp/Downloads/CroppedYale/yaleB39/yaleB39_P00A+110E-20.jpg', 'C:/Users/Hp/Downloads/CroppedYale/yaleB39/yaleB39_P00A+070E-35.jpg', 'C:/Users/Hp/Downloads/CroppedYale/yaleB39/yaleB39_P00A+060E-20.jpg', 'C:/Users/Hp/Downloads/CroppedYale/yaleB39/yaleB39_P00A+110E+40.jpg', 'C:/Users/Hp/Downloads/CroppedYale/yaleB39/yaleB39_P00A-035E+65.jpg', 'C:/Users/Hp/Downloads/CroppedYale/yaleB39/yaleB39_P00A+050E-40.jpg', 'C:/Users/Hp/Downloads/CroppedYale/yaleB39/yaleB39_P00A-050E-40.jpg']\n"
     ]
    }
   ],
   "source": [
    "for i in classes:                           #for loop to split the whole folder to train and test\n",
    "    os.makedirs(rootdir +'/train/' + i)\n",
    "    os.makedirs(rootdir +'/test/' + i)\n",
    "    source = rootdir + '/' + i\n",
    "    allFileNames = os.listdir(source)                      \n",
    "    np.random.shuffle(allFileNames)\n",
    "\n",
    "    test_ratio = 0.2\n",
    "\n",
    "    train_FileNames, test_FileNames = np.split(np.array(allFileNames),\n",
    "                                                      [int(len(allFileNames)* (1 - test_ratio))])\n",
    "\n",
    "    train_FileNames = [source+'/'+ name for name in train_FileNames.tolist()]\n",
    "    test_FileNames = [source+'/' + name for name in test_FileNames.tolist()]\n",
    "\n",
    "    for name in train_FileNames:\n",
    "        shutil.copy(name, rootdir +'/train/' + i)\n",
    "\n",
    "    for name in test_FileNames:\n",
    "        shutil.copy(name, rootdir +'/test/' + i)\n",
    "\n",
    "print(train_FileNames)\n"
   ]
  },
  {
   "cell_type": "code",
   "execution_count": 3,
   "id": "04ddfb49",
   "metadata": {},
   "outputs": [],
   "source": [
    "import tensorflow as tf\n",
    "from tensorflow.keras.preprocessing.image import ImageDataGenerator\n",
    "from tensorflow.keras.models import Sequential\n",
    "from tensorflow.keras.layers import Dense, Dropout, Activation, Flatten\n",
    "from tensorflow.keras.layers import Conv2D, MaxPooling2D"
   ]
  },
  {
   "cell_type": "code",
   "execution_count": 4,
   "id": "5a41a430",
   "metadata": {},
   "outputs": [],
   "source": [
    "train = ImageDataGenerator(rescale = 1/225)        #generate image / batches with real dataaugmentation\n",
    "validation = ImageDataGenerator(rescale = 1/225)"
   ]
  },
  {
   "cell_type": "code",
   "execution_count": 32,
   "id": "98bd5e4f",
   "metadata": {
    "scrolled": true
   },
   "outputs": [
    {
     "name": "stdout",
     "output_type": "stream",
     "text": [
      "Found 1943 images belonging to 38 classes.\n"
     ]
    }
   ],
   "source": [
    "training_set = train.flow_from_directory('C:/Users/Hp/Downloads/CroppedYale/train',    #when clasess splitet ,put local dirct,\n",
    "                                                                                        #real target size\n",
    "                                                 target_size = (192,168),\n",
    "                                                 batch_size = 32,\n",
    "                                                 class_mode = 'categorical')"
   ]
  },
  {
   "cell_type": "code",
   "execution_count": 6,
   "id": "17f602ee",
   "metadata": {},
   "outputs": [
    {
     "name": "stdout",
     "output_type": "stream",
     "text": [
      "Found 506 images belonging to 38 classes.\n"
     ]
    }
   ],
   "source": [
    "test_set = validation.flow_from_directory('C:/Users/Hp/Downloads/CroppedYale/test',   #the same with testfolder\n",
    "                                            target_size = (192,168),\n",
    "                                            batch_size = 32,\n",
    "                                            class_mode = 'categorical')"
   ]
  },
  {
   "cell_type": "code",
   "execution_count": 7,
   "id": "c8bc9b94",
   "metadata": {},
   "outputs": [],
   "source": [
    "from keras.preprocessing.image import ImageDataGenerator, img_to_array, array_to_img, load_img\n",
    "from keras.models import Sequential\n",
    "from keras.layers import Conv2D, MaxPooling2D ,MaxPool2D\n",
    "from keras.layers import Activation, Dropout, Flatten, Dense\n",
    "from keras import optimizers"
   ]
  },
  {
   "cell_type": "code",
   "execution_count": 8,
   "id": "3a212f17",
   "metadata": {},
   "outputs": [
    {
     "name": "stdout",
     "output_type": "stream",
     "text": [
      "Model: \"sequential\"\n",
      "_________________________________________________________________\n",
      " Layer (type)                Output Shape              Param #   \n",
      "=================================================================\n",
      " conv2d (Conv2D)             (None, 192, 168, 32)      896       \n",
      "                                                                 \n",
      " conv2d_1 (Conv2D)           (None, 192, 168, 32)      9248      \n",
      "                                                                 \n",
      " max_pooling2d (MaxPooling2D  (None, 96, 84, 32)       0         \n",
      " )                                                               \n",
      "                                                                 \n",
      " dropout (Dropout)           (None, 96, 84, 32)        0         \n",
      "                                                                 \n",
      " conv2d_2 (Conv2D)           (None, 96, 84, 64)        18496     \n",
      "                                                                 \n",
      " conv2d_3 (Conv2D)           (None, 96, 84, 64)        36928     \n",
      "                                                                 \n",
      " max_pooling2d_1 (MaxPooling  (None, 48, 42, 64)       0         \n",
      " 2D)                                                             \n",
      "                                                                 \n",
      " dropout_1 (Dropout)         (None, 48, 42, 64)        0         \n",
      "                                                                 \n",
      " flatten (Flatten)           (None, 129024)            0         \n",
      "                                                                 \n",
      " dense (Dense)               (None, 128)               16515200  \n",
      "                                                                 \n",
      " dropout_2 (Dropout)         (None, 128)               0         \n",
      "                                                                 \n",
      " dense_1 (Dense)             (None, 38)                4902      \n",
      "                                                                 \n",
      "=================================================================\n",
      "Total params: 16,585,670\n",
      "Trainable params: 16,585,670\n",
      "Non-trainable params: 0\n",
      "_________________________________________________________________\n"
     ]
    }
   ],
   "source": [
    "input_shape = (192, 168, 3)                                #model CNN \n",
    "num_classes = 38\n",
    "\n",
    "model = Sequential()   \n",
    "model.add(Conv2D(32, kernel_size=(3, 3),activation='relu',padding = 'Same',input_shape=input_shape))\n",
    "model.add(Conv2D(32,kernel_size=(3, 3), activation='relu',padding = 'Same',))\n",
    "model.add(MaxPool2D(pool_size = (2, 2)))\n",
    "model.add(Dropout(0.25))\n",
    "\n",
    "model.add(Conv2D(64, (3, 3), activation='relu',padding = 'Same'))\n",
    "model.add(Conv2D(64, (3, 3), activation='relu',padding = 'Same'))\n",
    "model.add(MaxPool2D(pool_size=(2, 2)))\n",
    "model.add(Dropout(0.40))\n",
    "\n",
    "model.add(Flatten())\n",
    "model.add(Dense(128, activation='relu'))\n",
    "model.add(Dropout(0.5))\n",
    "model.add(Dense(num_classes, activation='softmax'))\n",
    "model.summary()"
   ]
  },
  {
   "cell_type": "code",
   "execution_count": 9,
   "id": "2c86ec51",
   "metadata": {},
   "outputs": [],
   "source": [
    "model.compile(\n",
    "  loss='categorical_crossentropy',\n",
    "  optimizer='adam',\n",
    "  metrics=['accuracy']\n",
    ")"
   ]
  },
  {
   "cell_type": "code",
   "execution_count": 10,
   "id": "8c02d5ce",
   "metadata": {
    "scrolled": true
   },
   "outputs": [
    {
     "name": "stdout",
     "output_type": "stream",
     "text": [
      "Epoch 1/15\n",
      "61/61 [==============================] - 180s 3s/step - loss: 3.6922 - accuracy: 0.0257 - val_loss: 3.6359 - val_accuracy: 0.0395\n",
      "Epoch 2/15\n",
      "61/61 [==============================] - 182s 3s/step - loss: 3.5524 - accuracy: 0.0566 - val_loss: 2.6950 - val_accuracy: 0.3182\n",
      "Epoch 3/15\n",
      "61/61 [==============================] - 181s 3s/step - loss: 1.7132 - accuracy: 0.5275 - val_loss: 0.3121 - val_accuracy: 0.9565\n",
      "Epoch 4/15\n",
      "61/61 [==============================] - 182s 3s/step - loss: 0.5432 - accuracy: 0.8446 - val_loss: 0.1147 - val_accuracy: 0.9802\n",
      "Epoch 5/15\n",
      "61/61 [==============================] - 179s 3s/step - loss: 0.3345 - accuracy: 0.8981 - val_loss: 0.1084 - val_accuracy: 0.9802\n",
      "Epoch 6/15\n",
      "61/61 [==============================] - 179s 3s/step - loss: 0.2151 - accuracy: 0.9362 - val_loss: 0.1011 - val_accuracy: 0.9822\n",
      "Epoch 7/15\n",
      "61/61 [==============================] - 181s 3s/step - loss: 0.1751 - accuracy: 0.9496 - val_loss: 0.1249 - val_accuracy: 0.9802\n",
      "Epoch 8/15\n",
      "61/61 [==============================] - 181s 3s/step - loss: 0.1726 - accuracy: 0.9490 - val_loss: 0.1218 - val_accuracy: 0.9802\n",
      "Epoch 9/15\n",
      "61/61 [==============================] - ETA: 0s - loss: 0.1230 - accuracy: 0.9624    - 454s 8s/step - loss: 0.1230 - accuracy: 0.9624 - val_loss: 0.1239 - val_accuracy: 0.9802\n",
      "Epoch 10/15\n",
      "61/61 [==============================] - 194s 3s/step - loss: 0.1192 - accuracy: 0.9665 - val_loss: 0.1280 - val_accuracy: 0.9802\n",
      "Epoch 11/15\n",
      "61/61 [==============================] - 188s 3s/step - loss: 0.1199 - accuracy: 0.9660 - val_loss: 0.1486 - val_accuracy: 0.9802\n",
      "Epoch 12/15\n",
      "61/61 [==============================] - 187s 3s/step - loss: 0.0886 - accuracy: 0.9717 - val_loss: 0.1595 - val_accuracy: 0.9802\n",
      "Epoch 13/15\n",
      "61/61 [==============================] - 188s 3s/step - loss: 0.0928 - accuracy: 0.9660 - val_loss: 0.1368 - val_accuracy: 0.9802\n",
      "Epoch 14/15\n",
      "61/61 [==============================] - 187s 3s/step - loss: 0.0893 - accuracy: 0.9696 - val_loss: 0.1602 - val_accuracy: 0.9802\n",
      "Epoch 15/15\n",
      "61/61 [==============================] - 185s 3s/step - loss: 0.0859 - accuracy: 0.9707 - val_loss: 0.1480 - val_accuracy: 0.9802\n"
     ]
    }
   ],
   "source": [
    "model_fit = model.fit(training_set , \n",
    "                     #steps_per_epoch = 3 ,\n",
    "                     epochs = 15 ,\n",
    "                     validation_data = test_set)"
   ]
  },
  {
   "cell_type": "code",
   "execution_count": 13,
   "id": "c5262537",
   "metadata": {
    "scrolled": true
   },
   "outputs": [
    {
     "name": "stderr",
     "output_type": "stream",
     "text": [
      "C:\\Users\\Hp\\AppData\\Local\\Temp/ipykernel_7452/3825266299.py:1: UserWarning: `Model.evaluate_generator` is deprecated and will be removed in a future version. Please use `Model.evaluate`, which supports generators.\n",
      "  train_loss , train_acc = model.evaluate_generator(training_set , steps=16)     ###evaluate model\n",
      "C:\\Users\\Hp\\AppData\\Local\\Temp/ipykernel_7452/3825266299.py:2: UserWarning: `Model.evaluate_generator` is deprecated and will be removed in a future version. Please use `Model.evaluate`, which supports generators.\n",
      "  validation_loss, test_acc = model.evaluate_generator(test_set , steps =16)\n"
     ]
    },
    {
     "name": "stdout",
     "output_type": "stream",
     "text": [
      "Train_acc: 1.000 , Test_acc: 0.980\n"
     ]
    }
   ],
   "source": [
    "train_loss , train_acc = model.evaluate_generator(training_set , steps=16)     ###evaluate model\n",
    "validation_loss, test_acc = model.evaluate_generator(test_set , steps =16)\n",
    "print('Train_acc: %.3f , Test_acc: %.3f' %(train_acc ,test_acc))"
   ]
  },
  {
   "cell_type": "code",
   "execution_count": 14,
   "id": "c9b00929",
   "metadata": {},
   "outputs": [
    {
     "name": "stderr",
     "output_type": "stream",
     "text": [
      "C:\\Users\\Hp\\AppData\\Local\\Temp/ipykernel_7452/923909745.py:1: UserWarning: `Model.evaluate_generator` is deprecated and will be removed in a future version. Please use `Model.evaluate`, which supports generators.\n",
      "  train_loss , train_acc = model.evaluate_generator(training_set , steps=16)     ###evaluate model\n",
      "C:\\Users\\Hp\\AppData\\Local\\Temp/ipykernel_7452/923909745.py:2: UserWarning: `Model.evaluate_generator` is deprecated and will be removed in a future version. Please use `Model.evaluate`, which supports generators.\n",
      "  validation_loss, test_acc = model.evaluate_generator(test_set , steps =16)\n"
     ]
    },
    {
     "name": "stdout",
     "output_type": "stream",
     "text": [
      "train_loss  0.016, validation_loss: 0.148\n"
     ]
    }
   ],
   "source": [
    "train_loss , train_acc = model.evaluate_generator(training_set , steps=16)     ###evaluate model\n",
    "validation_loss, test_acc = model.evaluate_generator(test_set , steps =16)\n",
    "print('train_loss  %.3f, validation_loss: %.3f' %(train_loss ,validation_loss))"
   ]
  },
  {
   "cell_type": "code",
   "execution_count": 15,
   "id": "ee4724c7",
   "metadata": {},
   "outputs": [
    {
     "data": {
      "image/png": "[encoded data removed]",
      "text/plain": [
       "<Figure size 432x288 with 1 Axes>"
      ]
     },
     "metadata": {
      "needs_background": "light"
     },
     "output_type": "display_data"
    }
   ],
   "source": [
    "loss_train =model_fit.history['loss']\n",
    "loss_val =  model_fit.history['val_loss']\n",
    "epochs = range(0,15)\n",
    "plt.plot(epochs, loss_train, 'g', label='Training loss')\n",
    "plt.plot(epochs, loss_val, 'b', label='validation loss')\n",
    "plt.title('Training and Validation loss')\n",
    "plt.xlabel('Epochs')\n",
    "plt.ylabel('loss')\n",
    "plt.legend()\n",
    "plt.show()"
   ]
  },
  {
   "cell_type": "code",
   "execution_count": 19,
   "id": "e79cf0e4",
   "metadata": {},
   "outputs": [
    {
     "data": {
      "image/png": "[encoded data removed]",
      "text/plain": [
       "<Figure size 432x288 with 1 Axes>"
      ]
     },
     "metadata": {
      "needs_background": "light"
     },
     "output_type": "display_data"
    }
   ],
   "source": [
    "acc_train = model_fit.history['accuracy']\n",
    "acc_val = model_fit.history['val_accuracy']\n",
    "epochs = range(0,15)\n",
    "plt.plot(epochs, acc_train, 'g', label='Training accuracy')\n",
    "plt.plot(epochs, acc_val, 'b', label='validation accuracy')\n",
    "plt.title('Training and Validation accuracy')\n",
    "plt.xlabel('Epochs')\n",
    "plt.ylabel('Accuracy')\n",
    "plt.legend()\n",
    "plt.show()"
   ]
  },
  {
   "cell_type": "code",
   "execution_count": null,
   "id": "9233cf23",
   "metadata": {},
   "outputs": [],
   "source": []
  },
  {
   "cell_type": "code",
   "execution_count": null,
   "id": "334b9450",
   "metadata": {},
   "outputs": [],
   "source": [
    "#dataAugmentation"
   ]
  },
  {
   "cell_type": "code",
   "execution_count": 22,
   "id": "1f40e133",
   "metadata": {},
   "outputs": [],
   "source": [
    "import keras\n",
    "from tensorflow.keras import layers                     # func augmentation\n",
    "data_augmentation = keras.Sequential(\n",
    "  [\n",
    "    layers.experimental.preprocessing.RandomFlip(\"horizontal\", \n",
    "                                                 input_shape=(192, \n",
    "                                                              168,\n",
    "                                                              3)),\n",
    "    layers.experimental.preprocessing.RandomRotation(0.1),\n",
    "    layers.experimental.preprocessing.RandomZoom(0.1),\n",
    "  ]\n",
    ")"
   ]
  },
  {
   "cell_type": "code",
   "execution_count": 24,
   "id": "fa290217",
   "metadata": {},
   "outputs": [
    {
     "name": "stdout",
     "output_type": "stream",
     "text": [
      "Model: \"sequential_3\"\n",
      "_________________________________________________________________\n",
      " Layer (type)                Output Shape              Param #   \n",
      "=================================================================\n",
      " conv2d_8 (Conv2D)           (None, 192, 168, 32)      896       \n",
      "                                                                 \n",
      " conv2d_9 (Conv2D)           (None, 192, 168, 32)      9248      \n",
      "                                                                 \n",
      " max_pooling2d_4 (MaxPooling  (None, 96, 84, 32)       0         \n",
      " 2D)                                                             \n",
      "                                                                 \n",
      " dropout_6 (Dropout)         (None, 96, 84, 32)        0         \n",
      "                                                                 \n",
      " conv2d_10 (Conv2D)          (None, 96, 84, 64)        18496     \n",
      "                                                                 \n",
      " conv2d_11 (Conv2D)          (None, 96, 84, 64)        36928     \n",
      "                                                                 \n",
      " max_pooling2d_5 (MaxPooling  (None, 48, 42, 64)       0         \n",
      " 2D)                                                             \n",
      "                                                                 \n",
      " dropout_7 (Dropout)         (None, 48, 42, 64)        0         \n",
      "                                                                 \n",
      " flatten_2 (Flatten)         (None, 129024)            0         \n",
      "                                                                 \n",
      " dense_4 (Dense)             (None, 128)               16515200  \n",
      "                                                                 \n",
      " dropout_8 (Dropout)         (None, 128)               0         \n",
      "                                                                 \n",
      " dense_5 (Dense)             (None, 38)                4902      \n",
      "                                                                 \n",
      "=================================================================\n",
      "Total params: 16,585,670\n",
      "Trainable params: 16,585,670\n",
      "Non-trainable params: 0\n",
      "_________________________________________________________________\n",
      "Epoch 1/15\n",
      "61/61 [==============================] - 189s 3s/step - loss: 3.6938 - accuracy: 0.0278 - val_loss: 3.6372 - val_accuracy: 0.0336\n",
      "Epoch 2/15\n",
      "61/61 [==============================] - 186s 3s/step - loss: 3.6328 - accuracy: 0.0335 - val_loss: 3.6007 - val_accuracy: 0.0573\n",
      "Epoch 3/15\n",
      "61/61 [==============================] - 160s 3s/step - loss: 3.0520 - accuracy: 0.2017 - val_loss: 1.3307 - val_accuracy: 0.7549\n",
      "Epoch 4/15\n",
      "61/61 [==============================] - 149s 2s/step - loss: 0.9379 - accuracy: 0.7422 - val_loss: 0.2986 - val_accuracy: 0.9466\n",
      "Epoch 5/15\n",
      "61/61 [==============================] - 159s 3s/step - loss: 0.3272 - accuracy: 0.9099 - val_loss: 0.1566 - val_accuracy: 0.9802\n",
      "Epoch 6/15\n",
      "61/61 [==============================] - 154s 3s/step - loss: 0.2181 - accuracy: 0.9449 - val_loss: 0.1500 - val_accuracy: 0.9802\n",
      "Epoch 7/15\n",
      "61/61 [==============================] - 156s 3s/step - loss: 0.1409 - accuracy: 0.9588 - val_loss: 0.1149 - val_accuracy: 0.9802\n",
      "Epoch 8/15\n",
      "61/61 [==============================] - 148s 2s/step - loss: 0.1137 - accuracy: 0.9707 - val_loss: 0.1272 - val_accuracy: 0.9783\n",
      "Epoch 9/15\n",
      "61/61 [==============================] - 159s 3s/step - loss: 0.0809 - accuracy: 0.9799 - val_loss: 0.1220 - val_accuracy: 0.9783\n",
      "Epoch 10/15\n",
      "61/61 [==============================] - 151s 2s/step - loss: 0.0678 - accuracy: 0.9794 - val_loss: 0.1434 - val_accuracy: 0.9783\n",
      "Epoch 11/15\n",
      "61/61 [==============================] - 150s 2s/step - loss: 0.0791 - accuracy: 0.9784 - val_loss: 0.1634 - val_accuracy: 0.9783\n",
      "Epoch 12/15\n",
      "61/61 [==============================] - 151s 2s/step - loss: 0.0608 - accuracy: 0.9815 - val_loss: 0.1294 - val_accuracy: 0.9783\n",
      "Epoch 13/15\n",
      "61/61 [==============================] - 150s 2s/step - loss: 0.0636 - accuracy: 0.9804 - val_loss: 0.1320 - val_accuracy: 0.9783\n",
      "Epoch 14/15\n",
      "61/61 [==============================] - 145s 2s/step - loss: 0.0507 - accuracy: 0.9840 - val_loss: 0.1653 - val_accuracy: 0.9783\n",
      "Epoch 15/15\n",
      "61/61 [==============================] - 148s 2s/step - loss: 0.0387 - accuracy: 0.9882 - val_loss: 0.1794 - val_accuracy: 0.9783\n"
     ]
    }
   ],
   "source": [
    "num_classes = 38\n",
    "input_shape = (192, 168, 3)\n",
    "\n",
    "data_augmentation,\n",
    "model = Sequential()\n",
    "model.add(Conv2D(32, kernel_size=(3, 3),activation='relu',padding = 'Same',input_shape=input_shape))\n",
    "model.add(Conv2D(32,kernel_size=(3, 3), activation='relu',padding = 'Same',))\n",
    "model.add(MaxPool2D(pool_size = (2, 2)))\n",
    "model.add(Dropout(0.25))\n",
    "\n",
    "model.add(Conv2D(64, (3, 3), activation='relu',padding = 'Same'))\n",
    "model.add(Conv2D(64, (3, 3), activation='relu',padding = 'Same'))\n",
    "model.add(MaxPool2D(pool_size=(2, 2)))\n",
    "model.add(Dropout(0.40))\n",
    "\n",
    "model.add(Flatten())\n",
    "model.add(Dense(128, activation='relu'))\n",
    "model.add(Dropout(0.5))\n",
    "model.add(Dense(num_classes, activation='softmax'))\n",
    "model.summary()\n",
    "model.compile(\n",
    "  loss='categorical_crossentropy',\n",
    "  optimizer='adam',\n",
    "  metrics=['accuracy']\n",
    ")\n",
    "              \n",
    "model_fit = model.fit(training_set , \n",
    "                     #steps_per_epoch = 3 ,\n",
    "                     epochs = 15 ,\n",
    "                     validation_data = test_set)"
   ]
  },
  {
   "cell_type": "code",
   "execution_count": 25,
   "id": "1fbba5e0",
   "metadata": {},
   "outputs": [
    {
     "name": "stderr",
     "output_type": "stream",
     "text": [
      "C:\\Users\\Hp\\AppData\\Local\\Temp/ipykernel_7452/3349866801.py:1: UserWarning: `Model.evaluate_generator` is deprecated and will be removed in a future version. Please use `Model.evaluate`, which supports generators.\n",
      "  train_loss1 , train_acc1 = model.evaluate_generator(training_set , steps=16)     ###evaluate model\n",
      "C:\\Users\\Hp\\AppData\\Local\\Temp/ipykernel_7452/3349866801.py:2: UserWarning: `Model.evaluate_generator` is deprecated and will be removed in a future version. Please use `Model.evaluate`, which supports generators.\n",
      "  validation_loss1, test_acc1 = model.evaluate_generator(test_set , steps =16)\n"
     ]
    },
    {
     "name": "stdout",
     "output_type": "stream",
     "text": [
      "train_acc: 0.998 , test_acc: 0.978\n"
     ]
    }
   ],
   "source": [
    "train_loss1 , train_acc1 = model.evaluate_generator(training_set , steps=16)     ###evaluate model\n",
    "validation_loss1, test_acc1 = model.evaluate_generator(test_set , steps =16)\n",
    "print('train_acc: %.3f , test_acc: %.3f' %(train_acc1 ,test_acc1))"
   ]
  },
  {
   "cell_type": "code",
   "execution_count": 26,
   "id": "2e1bbac5",
   "metadata": {},
   "outputs": [
    {
     "name": "stderr",
     "output_type": "stream",
     "text": [
      "C:\\Users\\Hp\\AppData\\Local\\Temp/ipykernel_7452/506452222.py:1: UserWarning: `Model.evaluate_generator` is deprecated and will be removed in a future version. Please use `Model.evaluate`, which supports generators.\n",
      "  train_loss1 , train_acc1 = model.evaluate_generator(training_set , steps=16)     ###evaluate model\n",
      "C:\\Users\\Hp\\AppData\\Local\\Temp/ipykernel_7452/506452222.py:2: UserWarning: `Model.evaluate_generator` is deprecated and will be removed in a future version. Please use `Model.evaluate`, which supports generators.\n",
      "  validation_loss1, test_acc1 = model.evaluate_generator(test_set , steps =16)\n"
     ]
    },
    {
     "name": "stdout",
     "output_type": "stream",
     "text": [
      "train_loss  0.002, validation_loss: 0.179\n"
     ]
    }
   ],
   "source": [
    "train_loss1 , train_acc1 = model.evaluate_generator(training_set , steps=16)     ###evaluate model\n",
    "validation_loss1, test_acc1 = model.evaluate_generator(test_set , steps =16)\n",
    "print('train_loss  %.3f, validation_loss: %.3f' %(train_loss1 ,validation_loss1))"
   ]
  },
  {
   "cell_type": "code",
   "execution_count": 29,
   "id": "d3f54ab8",
   "metadata": {},
   "outputs": [
    {
     "data": {
      "image/png": "[encoded data removed]",
      "text/plain": [
       "<Figure size 432x288 with 1 Axes>"
      ]
     },
     "metadata": {
      "needs_background": "light"
     },
     "output_type": "display_data"
    },
    {
     "data": {
      "text/plain": [
       "<Figure size 432x288 with 0 Axes>"
      ]
     },
     "metadata": {},
     "output_type": "display_data"
    }
   ],
   "source": [
    "acc_train1 = model_fit.history['accuracy']\n",
    "acc_val1 = model_fit.history['val_accuracy']\n",
    "epochs = range(0,15)\n",
    "plt.plot(epochs, acc_train1, 'g', label='Training accuracy')\n",
    "plt.plot(epochs, acc_val1, 'b', label='validation accuracy')\n",
    "plt.title('Training and Validation accuracy')\n",
    "plt.xlabel('Epochs')\n",
    "plt.ylabel('Accuracy')\n",
    "plt.legend()\n",
    "plt.show()\n",
    "plt.savefig('accuracy.png')"
   ]
  },
  {
   "cell_type": "code",
   "execution_count": 31,
   "id": "bdb96096",
   "metadata": {},
   "outputs": [
    {
     "data": {
      "image/png": "[encoded data removed]",
      "text/plain": [
       "<Figure size 432x288 with 1 Axes>"
      ]
     },
     "metadata": {
      "needs_background": "light"
     },
     "output_type": "display_data"
    }
   ],
   "source": [
    "loss_train1 = model_fit.history['loss']\n",
    "loss_val1 = model_fit.history['val_loss']\n",
    "epochs = range(0,15)\n",
    "plt.plot(epochs, loss_train1, 'g', label='Training loss')\n",
    "plt.plot(epochs, loss_val1, 'b', label='validation loss')\n",
    "plt.title('Training and Validation loss')\n",
    "plt.xlabel('Epochs')\n",
    "plt.ylabel('loss')\n",
    "plt.legend()\n",
    "plt.show()"
   ]
  },
  {
   "cell_type": "code",
   "execution_count": null,
   "id": "3ec52412",
   "metadata": {},
   "outputs": [],
   "source": []
  }
 ],
 "metadata": {
  "kernelspec": {
   "display_name": "Python 3 (ipykernel)",
   "language": "python",
   "name": "python3"
  },
  "language_info": {
   "codemirror_mode": {
    "name": "ipython",
    "version": 3
   },
   "file_extension": ".py",
   "mimetype": "text/x-python",
   "name": "python",
   "nbconvert_exporter": "python",
   "pygments_lexer": "ipython3",
   "version": "3.9.7"
  }
 },
 "nbformat": 4,
 "nbformat_minor": 5
}
