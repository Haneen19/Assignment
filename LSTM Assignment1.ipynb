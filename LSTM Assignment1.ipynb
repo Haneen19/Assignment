{
 "cells": [
  {
   "cell_type": "code",
   "execution_count": 1,
   "id": "a2b87d6d",
   "metadata": {},
   "outputs": [],
   "source": [
    "# Regular expressions\n",
    "import re\n",
    "\n",
    "# Data and visualization \n",
    "import pandas as pd\n",
    "import seaborn as sns\n",
    "import matplotlib.pyplot as plt\n",
    "\n",
    "# Calculations\n",
    "import numpy as np"
   ]
  },
  {
   "cell_type": "code",
   "execution_count": 2,
   "id": "948ca62c",
   "metadata": {},
   "outputs": [
    {
     "data": {
      "text/html": [
       "<div>\n",
       "<style scoped>\n",
       "    .dataframe tbody tr th:only-of-type {\n",
       "        vertical-align: middle;\n",
       "    }\n",
       "\n",
       "    .dataframe tbody tr th {\n",
       "        vertical-align: top;\n",
       "    }\n",
       "\n",
       "    .dataframe thead th {\n",
       "        text-align: right;\n",
       "    }\n",
       "</style>\n",
       "<table border=\"1\" class=\"dataframe\">\n",
       "  <thead>\n",
       "    <tr style=\"text-align: right;\">\n",
       "      <th></th>\n",
       "      <th>target</th>\n",
       "      <th>id</th>\n",
       "      <th>date</th>\n",
       "      <th>query_flag</th>\n",
       "      <th>user</th>\n",
       "      <th>tweet_text</th>\n",
       "    </tr>\n",
       "  </thead>\n",
       "  <tbody>\n",
       "    <tr>\n",
       "      <th>0</th>\n",
       "      <td>0</td>\n",
       "      <td>1467810369</td>\n",
       "      <td>Mon Apr 06 22:19:45 PDT 2009</td>\n",
       "      <td>NO_QUERY</td>\n",
       "      <td>_TheSpecialOne_</td>\n",
       "      <td>@switchfoot http://twitpic.com/2y1zl - Awww, t...</td>\n",
       "    </tr>\n",
       "    <tr>\n",
       "      <th>1</th>\n",
       "      <td>0</td>\n",
       "      <td>1467810672</td>\n",
       "      <td>Mon Apr 06 22:19:49 PDT 2009</td>\n",
       "      <td>NO_QUERY</td>\n",
       "      <td>scotthamilton</td>\n",
       "      <td>is upset that he can't update his Facebook by ...</td>\n",
       "    </tr>\n",
       "    <tr>\n",
       "      <th>2</th>\n",
       "      <td>0</td>\n",
       "      <td>1467810917</td>\n",
       "      <td>Mon Apr 06 22:19:53 PDT 2009</td>\n",
       "      <td>NO_QUERY</td>\n",
       "      <td>mattycus</td>\n",
       "      <td>@Kenichan I dived many times for the ball. Man...</td>\n",
       "    </tr>\n",
       "    <tr>\n",
       "      <th>3</th>\n",
       "      <td>0</td>\n",
       "      <td>1467811184</td>\n",
       "      <td>Mon Apr 06 22:19:57 PDT 2009</td>\n",
       "      <td>NO_QUERY</td>\n",
       "      <td>ElleCTF</td>\n",
       "      <td>my whole body feels itchy and like its on fire</td>\n",
       "    </tr>\n",
       "    <tr>\n",
       "      <th>4</th>\n",
       "      <td>0</td>\n",
       "      <td>1467811193</td>\n",
       "      <td>Mon Apr 06 22:19:57 PDT 2009</td>\n",
       "      <td>NO_QUERY</td>\n",
       "      <td>Karoli</td>\n",
       "      <td>@nationwideclass no, it's not behaving at all....</td>\n",
       "    </tr>\n",
       "  </tbody>\n",
       "</table>\n",
       "</div>"
      ],
      "text/plain": [
       "   target          id                          date query_flag  \\\n",
       "0       0  1467810369  Mon Apr 06 22:19:45 PDT 2009   NO_QUERY   \n",
       "1       0  1467810672  Mon Apr 06 22:19:49 PDT 2009   NO_QUERY   \n",
       "2       0  1467810917  Mon Apr 06 22:19:53 PDT 2009   NO_QUERY   \n",
       "3       0  1467811184  Mon Apr 06 22:19:57 PDT 2009   NO_QUERY   \n",
       "4       0  1467811193  Mon Apr 06 22:19:57 PDT 2009   NO_QUERY   \n",
       "\n",
       "              user                                         tweet_text  \n",
       "0  _TheSpecialOne_  @switchfoot http://twitpic.com/2y1zl - Awww, t...  \n",
       "1    scotthamilton  is upset that he can't update his Facebook by ...  \n",
       "2         mattycus  @Kenichan I dived many times for the ball. Man...  \n",
       "3          ElleCTF    my whole body feels itchy and like its on fire   \n",
       "4           Karoli  @nationwideclass no, it's not behaving at all....  "
      ]
     },
     "execution_count": 2,
     "metadata": {},
     "output_type": "execute_result"
    }
   ],
   "source": [
    "dataset = pd.read_csv(\"E:/CollegeMaterial/Deep learning/training.csv\", \n",
    "                      encoding=\"latin\", \n",
    "                      header=None, \n",
    "                      names=[\"target\",\"id\",\"date\",\"query_flag\",\"user\",\"tweet_text\"]\n",
    "                     )\n",
    "dataset.head(5)"
   ]
  },
  {
   "cell_type": "code",
   "execution_count": 3,
   "id": "5c3fcec1",
   "metadata": {},
   "outputs": [
    {
     "name": "stdout",
     "output_type": "stream",
     "text": [
      "Number of negative samples : 800000\n",
      "\n"
     ]
    },
    {
     "data": {
      "text/html": [
       "<div>\n",
       "<style scoped>\n",
       "    .dataframe tbody tr th:only-of-type {\n",
       "        vertical-align: middle;\n",
       "    }\n",
       "\n",
       "    .dataframe tbody tr th {\n",
       "        vertical-align: top;\n",
       "    }\n",
       "\n",
       "    .dataframe thead th {\n",
       "        text-align: right;\n",
       "    }\n",
       "</style>\n",
       "<table border=\"1\" class=\"dataframe\">\n",
       "  <thead>\n",
       "    <tr style=\"text-align: right;\">\n",
       "      <th></th>\n",
       "      <th>target</th>\n",
       "      <th>id</th>\n",
       "      <th>date</th>\n",
       "      <th>query_flag</th>\n",
       "      <th>user</th>\n",
       "      <th>tweet_text</th>\n",
       "    </tr>\n",
       "  </thead>\n",
       "  <tbody>\n",
       "    <tr>\n",
       "      <th>0</th>\n",
       "      <td>0</td>\n",
       "      <td>1467810369</td>\n",
       "      <td>Mon Apr 06 22:19:45 PDT 2009</td>\n",
       "      <td>NO_QUERY</td>\n",
       "      <td>_TheSpecialOne_</td>\n",
       "      <td>@switchfoot http://twitpic.com/2y1zl - Awww, t...</td>\n",
       "    </tr>\n",
       "    <tr>\n",
       "      <th>1</th>\n",
       "      <td>0</td>\n",
       "      <td>1467810672</td>\n",
       "      <td>Mon Apr 06 22:19:49 PDT 2009</td>\n",
       "      <td>NO_QUERY</td>\n",
       "      <td>scotthamilton</td>\n",
       "      <td>is upset that he can't update his Facebook by ...</td>\n",
       "    </tr>\n",
       "    <tr>\n",
       "      <th>2</th>\n",
       "      <td>0</td>\n",
       "      <td>1467810917</td>\n",
       "      <td>Mon Apr 06 22:19:53 PDT 2009</td>\n",
       "      <td>NO_QUERY</td>\n",
       "      <td>mattycus</td>\n",
       "      <td>@Kenichan I dived many times for the ball. Man...</td>\n",
       "    </tr>\n",
       "    <tr>\n",
       "      <th>3</th>\n",
       "      <td>0</td>\n",
       "      <td>1467811184</td>\n",
       "      <td>Mon Apr 06 22:19:57 PDT 2009</td>\n",
       "      <td>NO_QUERY</td>\n",
       "      <td>ElleCTF</td>\n",
       "      <td>my whole body feels itchy and like its on fire</td>\n",
       "    </tr>\n",
       "    <tr>\n",
       "      <th>4</th>\n",
       "      <td>0</td>\n",
       "      <td>1467811193</td>\n",
       "      <td>Mon Apr 06 22:19:57 PDT 2009</td>\n",
       "      <td>NO_QUERY</td>\n",
       "      <td>Karoli</td>\n",
       "      <td>@nationwideclass no, it's not behaving at all....</td>\n",
       "    </tr>\n",
       "  </tbody>\n",
       "</table>\n",
       "</div>"
      ],
      "text/plain": [
       "   target          id                          date query_flag  \\\n",
       "0       0  1467810369  Mon Apr 06 22:19:45 PDT 2009   NO_QUERY   \n",
       "1       0  1467810672  Mon Apr 06 22:19:49 PDT 2009   NO_QUERY   \n",
       "2       0  1467810917  Mon Apr 06 22:19:53 PDT 2009   NO_QUERY   \n",
       "3       0  1467811184  Mon Apr 06 22:19:57 PDT 2009   NO_QUERY   \n",
       "4       0  1467811193  Mon Apr 06 22:19:57 PDT 2009   NO_QUERY   \n",
       "\n",
       "              user                                         tweet_text  \n",
       "0  _TheSpecialOne_  @switchfoot http://twitpic.com/2y1zl - Awww, t...  \n",
       "1    scotthamilton  is upset that he can't update his Facebook by ...  \n",
       "2         mattycus  @Kenichan I dived many times for the ball. Man...  \n",
       "3          ElleCTF    my whole body feels itchy and like its on fire   \n",
       "4           Karoli  @nationwideclass no, it's not behaving at all....  "
      ]
     },
     "execution_count": 3,
     "metadata": {},
     "output_type": "execute_result"
    }
   ],
   "source": [
    "negative_samples = dataset[dataset[\"target\"]==0]              #Negative samples : (target = 0)\n",
    "print(f\"Number of negative samples : {len(negative_samples)}\\n\")\n",
    "negative_samples.head(5)"
   ]
  },
  {
   "cell_type": "code",
   "execution_count": 4,
   "id": "45a1013e",
   "metadata": {},
   "outputs": [
    {
     "name": "stdout",
     "output_type": "stream",
     "text": [
      "Number of positive samples 800000\n",
      "\n",
      "\n"
     ]
    },
    {
     "data": {
      "text/html": [
       "<div>\n",
       "<style scoped>\n",
       "    .dataframe tbody tr th:only-of-type {\n",
       "        vertical-align: middle;\n",
       "    }\n",
       "\n",
       "    .dataframe tbody tr th {\n",
       "        vertical-align: top;\n",
       "    }\n",
       "\n",
       "    .dataframe thead th {\n",
       "        text-align: right;\n",
       "    }\n",
       "</style>\n",
       "<table border=\"1\" class=\"dataframe\">\n",
       "  <thead>\n",
       "    <tr style=\"text-align: right;\">\n",
       "      <th></th>\n",
       "      <th>target</th>\n",
       "      <th>id</th>\n",
       "      <th>date</th>\n",
       "      <th>query_flag</th>\n",
       "      <th>user</th>\n",
       "      <th>tweet_text</th>\n",
       "    </tr>\n",
       "  </thead>\n",
       "  <tbody>\n",
       "    <tr>\n",
       "      <th>800000</th>\n",
       "      <td>4</td>\n",
       "      <td>1467822272</td>\n",
       "      <td>Mon Apr 06 22:22:45 PDT 2009</td>\n",
       "      <td>NO_QUERY</td>\n",
       "      <td>ersle</td>\n",
       "      <td>I LOVE @Health4UandPets u guys r the best!!</td>\n",
       "    </tr>\n",
       "    <tr>\n",
       "      <th>800001</th>\n",
       "      <td>4</td>\n",
       "      <td>1467822273</td>\n",
       "      <td>Mon Apr 06 22:22:45 PDT 2009</td>\n",
       "      <td>NO_QUERY</td>\n",
       "      <td>becca210</td>\n",
       "      <td>im meeting up with one of my besties tonight! ...</td>\n",
       "    </tr>\n",
       "    <tr>\n",
       "      <th>800002</th>\n",
       "      <td>4</td>\n",
       "      <td>1467822283</td>\n",
       "      <td>Mon Apr 06 22:22:46 PDT 2009</td>\n",
       "      <td>NO_QUERY</td>\n",
       "      <td>Wingman29</td>\n",
       "      <td>@DaRealSunisaKim Thanks for the Twitter add, S...</td>\n",
       "    </tr>\n",
       "    <tr>\n",
       "      <th>800003</th>\n",
       "      <td>4</td>\n",
       "      <td>1467822287</td>\n",
       "      <td>Mon Apr 06 22:22:46 PDT 2009</td>\n",
       "      <td>NO_QUERY</td>\n",
       "      <td>katarinka</td>\n",
       "      <td>Being sick can be really cheap when it hurts t...</td>\n",
       "    </tr>\n",
       "    <tr>\n",
       "      <th>800004</th>\n",
       "      <td>4</td>\n",
       "      <td>1467822293</td>\n",
       "      <td>Mon Apr 06 22:22:46 PDT 2009</td>\n",
       "      <td>NO_QUERY</td>\n",
       "      <td>_EmilyYoung</td>\n",
       "      <td>@LovesBrooklyn2 he has that effect on everyone</td>\n",
       "    </tr>\n",
       "  </tbody>\n",
       "</table>\n",
       "</div>"
      ],
      "text/plain": [
       "        target          id                          date query_flag  \\\n",
       "800000       4  1467822272  Mon Apr 06 22:22:45 PDT 2009   NO_QUERY   \n",
       "800001       4  1467822273  Mon Apr 06 22:22:45 PDT 2009   NO_QUERY   \n",
       "800002       4  1467822283  Mon Apr 06 22:22:46 PDT 2009   NO_QUERY   \n",
       "800003       4  1467822287  Mon Apr 06 22:22:46 PDT 2009   NO_QUERY   \n",
       "800004       4  1467822293  Mon Apr 06 22:22:46 PDT 2009   NO_QUERY   \n",
       "\n",
       "               user                                         tweet_text  \n",
       "800000        ersle       I LOVE @Health4UandPets u guys r the best!!   \n",
       "800001     becca210  im meeting up with one of my besties tonight! ...  \n",
       "800002    Wingman29  @DaRealSunisaKim Thanks for the Twitter add, S...  \n",
       "800003    katarinka  Being sick can be really cheap when it hurts t...  \n",
       "800004  _EmilyYoung    @LovesBrooklyn2 he has that effect on everyone   "
      ]
     },
     "execution_count": 4,
     "metadata": {},
     "output_type": "execute_result"
    }
   ],
   "source": [
    "positive_samples = dataset[dataset[\"target\"]==4]               #Positive samples : (target = 0)\n",
    "print(f\"Number of positive samples {len(positive_samples)}\\n\\n\")\n",
    "positive_samples.head(5)"
   ]
  },
  {
   "cell_type": "code",
   "execution_count": 5,
   "id": "4dd2ec29",
   "metadata": {},
   "outputs": [
    {
     "data": {
      "text/html": [
       "<div>\n",
       "<style scoped>\n",
       "    .dataframe tbody tr th:only-of-type {\n",
       "        vertical-align: middle;\n",
       "    }\n",
       "\n",
       "    .dataframe tbody tr th {\n",
       "        vertical-align: top;\n",
       "    }\n",
       "\n",
       "    .dataframe thead th {\n",
       "        text-align: right;\n",
       "    }\n",
       "</style>\n",
       "<table border=\"1\" class=\"dataframe\">\n",
       "  <thead>\n",
       "    <tr style=\"text-align: right;\">\n",
       "      <th></th>\n",
       "      <th>target</th>\n",
       "      <th>tweet_text</th>\n",
       "    </tr>\n",
       "  </thead>\n",
       "  <tbody>\n",
       "    <tr>\n",
       "      <th>0</th>\n",
       "      <td>0</td>\n",
       "      <td>@switchfoot http://twitpic.com/2y1zl - Awww, t...</td>\n",
       "    </tr>\n",
       "    <tr>\n",
       "      <th>1</th>\n",
       "      <td>0</td>\n",
       "      <td>is upset that he can't update his Facebook by ...</td>\n",
       "    </tr>\n",
       "    <tr>\n",
       "      <th>2</th>\n",
       "      <td>0</td>\n",
       "      <td>@Kenichan I dived many times for the ball. Man...</td>\n",
       "    </tr>\n",
       "    <tr>\n",
       "      <th>3</th>\n",
       "      <td>0</td>\n",
       "      <td>my whole body feels itchy and like its on fire</td>\n",
       "    </tr>\n",
       "    <tr>\n",
       "      <th>4</th>\n",
       "      <td>0</td>\n",
       "      <td>@nationwideclass no, it's not behaving at all....</td>\n",
       "    </tr>\n",
       "  </tbody>\n",
       "</table>\n",
       "</div>"
      ],
      "text/plain": [
       "   target                                         tweet_text\n",
       "0       0  @switchfoot http://twitpic.com/2y1zl - Awww, t...\n",
       "1       0  is upset that he can't update his Facebook by ...\n",
       "2       0  @Kenichan I dived many times for the ball. Man...\n",
       "3       0    my whole body feels itchy and like its on fire \n",
       "4       0  @nationwideclass no, it's not behaving at all...."
      ]
     },
     "execution_count": 5,
     "metadata": {},
     "output_type": "execute_result"
    }
   ],
   "source": [
    "dataset.drop([\"id\",\"date\",\"query_flag\",\"user\"],axis=1, inplace=True)   ##### drop Data\n",
    "dataset.head(5)"
   ]
  },
  {
   "cell_type": "code",
   "execution_count": 6,
   "id": "a90625f1",
   "metadata": {},
   "outputs": [
    {
     "data": {
      "text/html": [
       "<div>\n",
       "<style scoped>\n",
       "    .dataframe tbody tr th:only-of-type {\n",
       "        vertical-align: middle;\n",
       "    }\n",
       "\n",
       "    .dataframe tbody tr th {\n",
       "        vertical-align: top;\n",
       "    }\n",
       "\n",
       "    .dataframe thead th {\n",
       "        text-align: right;\n",
       "    }\n",
       "</style>\n",
       "<table border=\"1\" class=\"dataframe\">\n",
       "  <thead>\n",
       "    <tr style=\"text-align: right;\">\n",
       "      <th></th>\n",
       "      <th>target</th>\n",
       "      <th>tweet_text</th>\n",
       "    </tr>\n",
       "  </thead>\n",
       "  <tbody>\n",
       "    <tr>\n",
       "      <th>800000</th>\n",
       "      <td>1</td>\n",
       "      <td>I LOVE @Health4UandPets u guys r the best!!</td>\n",
       "    </tr>\n",
       "    <tr>\n",
       "      <th>800001</th>\n",
       "      <td>1</td>\n",
       "      <td>im meeting up with one of my besties tonight! ...</td>\n",
       "    </tr>\n",
       "    <tr>\n",
       "      <th>800002</th>\n",
       "      <td>1</td>\n",
       "      <td>@DaRealSunisaKim Thanks for the Twitter add, S...</td>\n",
       "    </tr>\n",
       "    <tr>\n",
       "      <th>800003</th>\n",
       "      <td>1</td>\n",
       "      <td>Being sick can be really cheap when it hurts t...</td>\n",
       "    </tr>\n",
       "    <tr>\n",
       "      <th>800004</th>\n",
       "      <td>1</td>\n",
       "      <td>@LovesBrooklyn2 he has that effect on everyone</td>\n",
       "    </tr>\n",
       "  </tbody>\n",
       "</table>\n",
       "</div>"
      ],
      "text/plain": [
       "        target                                         tweet_text\n",
       "800000       1       I LOVE @Health4UandPets u guys r the best!! \n",
       "800001       1  im meeting up with one of my besties tonight! ...\n",
       "800002       1  @DaRealSunisaKim Thanks for the Twitter add, S...\n",
       "800003       1  Being sick can be really cheap when it hurts t...\n",
       "800004       1    @LovesBrooklyn2 he has that effect on everyone "
      ]
     },
     "execution_count": 6,
     "metadata": {},
     "output_type": "execute_result"
    }
   ],
   "source": [
    "dataset.target = dataset.target.replace({4: 1})    # 4--->for  Positive 1---->Negative\n",
    "dataset[dataset[\"target\"]==1].head()"
   ]
  },
  {
   "cell_type": "code",
   "execution_count": 7,
   "id": "cae26b42",
   "metadata": {},
   "outputs": [],
   "source": [
    "regex_mentions = r\"@[A-Za-z0-9_]+\"           #Mentions\n",
    "regex_links = r\"https?://[A-Za-z0-9./]+\"       #links\n",
    "regex_special = r\"[^A-Za-z0-9]+\"            # charachter"
   ]
  },
  {
   "cell_type": "code",
   "execution_count": 8,
   "id": "28d6f6b8",
   "metadata": {},
   "outputs": [],
   "source": [
    "dataset.tweet_text = dataset.tweet_text.apply(lambda x: re.sub(regex_mentions, \" \", str(x).strip()))    ## Remove mentions\n",
    "dataset.tweet_text = dataset.tweet_text.apply(lambda x: re.sub(regex_links, \" \", str(x).strip()))     # Remove links\n",
    "dataset.tweet_text = dataset.tweet_text.apply(lambda x: re.sub(regex_special, \" \", str(x).strip()))    ## Remove characters"
   ]
  },
  {
   "cell_type": "code",
   "execution_count": 9,
   "id": "12351608",
   "metadata": {},
   "outputs": [
    {
     "data": {
      "text/html": [
       "<div>\n",
       "<style scoped>\n",
       "    .dataframe tbody tr th:only-of-type {\n",
       "        vertical-align: middle;\n",
       "    }\n",
       "\n",
       "    .dataframe tbody tr th {\n",
       "        vertical-align: top;\n",
       "    }\n",
       "\n",
       "    .dataframe thead th {\n",
       "        text-align: right;\n",
       "    }\n",
       "</style>\n",
       "<table border=\"1\" class=\"dataframe\">\n",
       "  <thead>\n",
       "    <tr style=\"text-align: right;\">\n",
       "      <th></th>\n",
       "      <th>target</th>\n",
       "      <th>tweet_text</th>\n",
       "    </tr>\n",
       "  </thead>\n",
       "  <tbody>\n",
       "    <tr>\n",
       "      <th>0</th>\n",
       "      <td>0</td>\n",
       "      <td>Awww that s a bummer You shoulda got David Ca...</td>\n",
       "    </tr>\n",
       "    <tr>\n",
       "      <th>1</th>\n",
       "      <td>0</td>\n",
       "      <td>is upset that he can t update his Facebook by ...</td>\n",
       "    </tr>\n",
       "    <tr>\n",
       "      <th>2</th>\n",
       "      <td>0</td>\n",
       "      <td>I dived many times for the ball Managed to sav...</td>\n",
       "    </tr>\n",
       "    <tr>\n",
       "      <th>3</th>\n",
       "      <td>0</td>\n",
       "      <td>my whole body feels itchy and like its on fire</td>\n",
       "    </tr>\n",
       "    <tr>\n",
       "      <th>4</th>\n",
       "      <td>0</td>\n",
       "      <td>no it s not behaving at all i m mad why am i h...</td>\n",
       "    </tr>\n",
       "  </tbody>\n",
       "</table>\n",
       "</div>"
      ],
      "text/plain": [
       "   target                                         tweet_text\n",
       "0       0   Awww that s a bummer You shoulda got David Ca...\n",
       "1       0  is upset that he can t update his Facebook by ...\n",
       "2       0  I dived many times for the ball Managed to sav...\n",
       "3       0     my whole body feels itchy and like its on fire\n",
       "4       0  no it s not behaving at all i m mad why am i h..."
      ]
     },
     "execution_count": 9,
     "metadata": {},
     "output_type": "execute_result"
    }
   ],
   "source": [
    "dataset.head(5)"
   ]
  },
  {
   "cell_type": "code",
   "execution_count": 10,
   "id": "e1ba0e72",
   "metadata": {},
   "outputs": [],
   "source": [
    "from sklearn.model_selection import train_test_split\n",
    "from sklearn.metrics import classification_report\n",
    "import tensorflow as tf\n",
    "from tensorflow.keras.layers import Embedding, LSTM\n",
    "from tensorflow.keras.layers.experimental.preprocessing import TextVectorization\n",
    "from tensorflow.keras.models import Sequential\n",
    "from tensorflow.keras.optimizers import Adam\n",
    "from tensorflow.keras.preprocessing.text import Tokenizer\n",
    "from tensorflow.keras.preprocessing.sequence import pad_sequences"
   ]
  },
  {
   "cell_type": "code",
   "execution_count": 11,
   "id": "ebe2be9f",
   "metadata": {},
   "outputs": [],
   "source": [
    "train, test = train_test_split(dataset, test_size=0.2, random_state=5)      #split dataset\n"
   ]
  },
  {
   "cell_type": "code",
   "execution_count": 12,
   "id": "5572adb4",
   "metadata": {},
   "outputs": [],
   "source": [
    "                                 ###### the text can be interpreted through analysis of the words present in the text.\n",
    "                                  ### Tokenizer -> breaking apart original text into individual tokens for further analysis\n",
    "tokenizer = Tokenizer()\n",
    "tokenizer.fit_on_texts(train.tweet_text)\n",
    "vocab_size = len(tokenizer.word_index)+1            ####result"
   ]
  },
  {
   "cell_type": "code",
   "execution_count": 13,
   "id": "f5b68780",
   "metadata": {},
   "outputs": [
    {
     "name": "stdout",
     "output_type": "stream",
     "text": [
      "Word index length: 249493\n",
      "Some words: ['i', 'to', 'the', 'a', 'my', 'it', 'and', 'you', 'is', 'in']\n"
     ]
    }
   ],
   "source": [
    "print(f\"Word index length: {len(tokenizer.word_index)}\")           \n",
    "print(f\"Some words: {list(tokenizer.word_index.keys())[0:10]}\")"
   ]
  },
  {
   "cell_type": "code",
   "execution_count": 14,
   "id": "e0a46a90",
   "metadata": {},
   "outputs": [
    {
     "name": "stdout",
     "output_type": "stream",
     "text": [
      "Maximum token length: 53\n"
     ]
    }
   ],
   "source": [
    "max_length = len(dataset[\"tweet_text\"][0].split())\n",
    "for tweet in dataset[\"tweet_text\"]: \n",
    "    length = len(tweet.split())\n",
    "    if length > max_length: \n",
    "        max_length = length\n",
    "\n",
    "print(f\"Maximum token length: {max_length}\")"
   ]
  },
  {
   "cell_type": "code",
   "execution_count": 15,
   "id": "10d10fb0",
   "metadata": {},
   "outputs": [],
   "source": [
    "sequences_train = tokenizer.texts_to_sequences(train.tweet_text)     ### train\n",
    "sequences_test = tokenizer.texts_to_sequences(test.tweet_text)     ### test"
   ]
  },
  {
   "cell_type": "code",
   "execution_count": 16,
   "id": "7bf1be2d",
   "metadata": {},
   "outputs": [
    {
     "name": "stdout",
     "output_type": "stream",
     "text": [
      "Training test shape : (1280000, 53)\n"
     ]
    }
   ],
   "source": [
    "X_train = pad_sequences(sequences_train, maxlen=max_length, padding=\"post\")   # padding\n",
    "X_test = pad_sequences(sequences_test, maxlen=max_length, padding=\"post\")\n",
    "\n",
    "y_train = train.target.values\n",
    "y_test = test.target.values\n",
    "\n",
    "print(f\"Training test shape : {X_train.shape}\")"
   ]
  },
  {
   "cell_type": "code",
   "execution_count": 17,
   "id": "447c937c",
   "metadata": {},
   "outputs": [],
   "source": [
    "embeddings_dictionary = dict()      #Word Embeddings (GloVe)GloVe is an unsupervised learning algorithm for obtaining vector representations for words. Training is performed on aggregated global word-word co-occurrence statistics from a corpus, and the resulting representations showcase interesting linear substructures of the word vector space\n",
    "\n",
    "embedding_dimension = 100\n",
    "glove_file = open(\"E:/CollegeMaterial/Deep learning/glove.txt\")"
   ]
  },
  {
   "cell_type": "code",
   "execution_count": 18,
   "id": "3edc4c84",
   "metadata": {},
   "outputs": [],
   "source": [
    "for line in glove_file:\n",
    "    records = line.split()\n",
    "    word = records[0]\n",
    "    representation = np.asarray(records[1:])\n",
    "    embeddings_dictionary[word] = representation\n",
    "    \n",
    "glove_file.close()\n",
    "\n",
    "# Initialize the embedding_matrix\n",
    "embeddings_matrix = np.zeros((vocab_size, embedding_dimension))\n",
    "\n",
    "# Iterate through the tokenizer words list\n",
    "for word, index in tokenizer.word_index.items():\n",
    "    embedding_vector = embeddings_dictionary.get(word)      # Get the word representation\n",
    "    if embedding_vector is not None:      # Update the word representation \n",
    "        embeddings_matrix[index] = embedding_vector"
   ]
  },
  {
   "cell_type": "code",
   "execution_count": 19,
   "id": "3f715e0b",
   "metadata": {},
   "outputs": [],
   "source": [
    "embedding_layer = Embedding(\n",
    "                            vocab_size, \n",
    "                            embedding_dimension, \n",
    "                            input_length=max_length, \n",
    "                            weights=[embeddings_matrix], \n",
    "                            trainable=False\n",
    ")"
   ]
  },
  {
   "cell_type": "code",
   "execution_count": 20,
   "id": "f4e2b05e",
   "metadata": {},
   "outputs": [],
   "source": [
    "stop_early = tf.keras.callbacks.EarlyStopping(\n",
    "    monitor=\"val_accuracy\", \n",
    "    patience=10, \n",
    "    mode =\"max\", \n",
    "    verbose=2, \n",
    "    restore_best_weights=True\n",
    ")"
   ]
  },
  {
   "cell_type": "code",
   "execution_count": 21,
   "id": "79d699fb",
   "metadata": {},
   "outputs": [],
   "source": [
    "import re\n",
    "import numpy as np\n",
    "import pandas as pd\n",
    "import matplotlib.pyplot as plt\n",
    "from tensorflow.keras.layers import Embedding,LSTM,Dense,Dropout\n",
    "from tensorflow.keras.preprocessing.sequence import pad_sequences\n",
    "from tensorflow.keras.models import Sequential\n",
    "from tensorflow.keras.preprocessing.text import one_hot\n",
    "from nltk.stem.porter import PorterStemmer\n",
    "from nltk.corpus import stopwords\n",
    "import matplotlib.pyplot as plt\n",
    "import seaborn as sns"
   ]
  },
  {
   "cell_type": "code",
   "execution_count": 22,
   "id": "9916913e",
   "metadata": {},
   "outputs": [],
   "source": [
    "model = Sequential()\n",
    "model.add(embedding_layer)\n",
    "model.add(LSTM(128))\n",
    "model.add(Dropout(0.4))\n",
    "\n",
    "#adding output layer \n",
    "model.add(Dense(1,activation=\"sigmoid\"))"
   ]
  },
  {
   "cell_type": "code",
   "execution_count": 23,
   "id": "b7fb64bb",
   "metadata": {},
   "outputs": [],
   "source": [
    "model.compile(loss=\"binary_crossentropy\",optimizer=\"adam\",metrics=[\"accuracy\"])"
   ]
  },
  {
   "cell_type": "code",
   "execution_count": 24,
   "id": "a62ccf98",
   "metadata": {},
   "outputs": [
    {
     "name": "stdout",
     "output_type": "stream",
     "text": [
      "Model: \"sequential\"\n",
      "_________________________________________________________________\n",
      " Layer (type)                Output Shape              Param #   \n",
      "=================================================================\n",
      " embedding (Embedding)       (None, 53, 100)           24949400  \n",
      "                                                                 \n",
      " lstm (LSTM)                 (None, 128)               117248    \n",
      "                                                                 \n",
      " dropout (Dropout)           (None, 128)               0         \n",
      "                                                                 \n",
      " dense (Dense)               (None, 1)                 129       \n",
      "                                                                 \n",
      "=================================================================\n",
      "Total params: 25,066,777\n",
      "Trainable params: 117,377\n",
      "Non-trainable params: 24,949,400\n",
      "_________________________________________________________________\n"
     ]
    }
   ],
   "source": [
    "model.summary()\n"
   ]
  },
  {
   "cell_type": "code",
   "execution_count": 25,
   "id": "a0be6b39",
   "metadata": {},
   "outputs": [
    {
     "name": "stdout",
     "output_type": "stream",
     "text": [
      "Epoch 1/30\n",
      "40000/40000 [==============================] - 1599s 40ms/step - loss: 0.4455 - accuracy: 0.7920 - val_loss: 0.4125 - val_accuracy: 0.8139\n",
      "Epoch 2/30\n",
      "40000/40000 [==============================] - 1610s 40ms/step - loss: 0.3962 - accuracy: 0.8206 - val_loss: 0.3975 - val_accuracy: 0.8195\n",
      "Epoch 3/30\n",
      "40000/40000 [==============================] - 1630s 41ms/step - loss: 0.3806 - accuracy: 0.8290 - val_loss: 0.3933 - val_accuracy: 0.8239\n",
      "Epoch 4/30\n",
      "40000/40000 [==============================] - 1671s 42ms/step - loss: 0.3705 - accuracy: 0.8342 - val_loss: 0.3878 - val_accuracy: 0.8247\n",
      "Epoch 5/30\n",
      "40000/40000 [==============================] - 1698s 42ms/step - loss: 0.3628 - accuracy: 0.8380 - val_loss: 0.3936 - val_accuracy: 0.8196\n",
      "Epoch 6/30\n",
      "40000/40000 [==============================] - 1755s 44ms/step - loss: 0.3568 - accuracy: 0.8412 - val_loss: 0.3876 - val_accuracy: 0.8256\n",
      "Epoch 7/30\n",
      "40000/40000 [==============================] - 1860s 47ms/step - loss: 0.3514 - accuracy: 0.8440 - val_loss: 0.3953 - val_accuracy: 0.8237\n",
      "Epoch 8/30\n",
      "40000/40000 [==============================] - 1874s 47ms/step - loss: 0.3474 - accuracy: 0.8459 - val_loss: 0.3941 - val_accuracy: 0.8224\n",
      "Epoch 9/30\n",
      "40000/40000 [==============================] - 1942s 49ms/step - loss: 0.3437 - accuracy: 0.8475 - val_loss: 0.3937 - val_accuracy: 0.8231\n",
      "Epoch 10/30\n",
      "40000/40000 [==============================] - 2011s 50ms/step - loss: 0.3409 - accuracy: 0.8489 - val_loss: 0.3973 - val_accuracy: 0.8211\n",
      "Epoch 11/30\n",
      "40000/40000 [==============================] - 1993s 50ms/step - loss: 0.3383 - accuracy: 0.8504 - val_loss: 0.3994 - val_accuracy: 0.8220\n",
      "Epoch 12/30\n",
      "40000/40000 [==============================] - 2061s 52ms/step - loss: 0.3361 - accuracy: 0.8518 - val_loss: 0.4034 - val_accuracy: 0.8230\n",
      "Epoch 13/30\n",
      "40000/40000 [==============================] - 2085s 52ms/step - loss: 0.3345 - accuracy: 0.8524 - val_loss: 0.4068 - val_accuracy: 0.8225\n",
      "Epoch 14/30\n",
      "40000/40000 [==============================] - 2108s 53ms/step - loss: 0.3581 - accuracy: 0.8416 - val_loss: 0.4526 - val_accuracy: 0.7907\n",
      "Epoch 15/30\n",
      "40000/40000 [==============================] - 2181s 55ms/step - loss: 0.4078 - accuracy: 0.8147 - val_loss: 0.4406 - val_accuracy: 0.7936\n",
      "Epoch 16/30\n",
      "40000/40000 [==============================] - ETA: 0s - loss: 0.4052 - accuracy: 0.8155Restoring model weights from the end of the best epoch: 6.\n",
      "40000/40000 [==============================] - 2171s 54ms/step - loss: 0.4052 - accuracy: 0.8155 - val_loss: 0.4059 - val_accuracy: 0.8164\n",
      "Epoch 16: early stopping\n"
     ]
    }
   ],
   "source": [
    "history = model.fit(\n",
    "    X_train,\n",
    "    y_train,\n",
    "    batch_size=32,\n",
    "    epochs=30,\n",
    "    #erbose=1, \n",
    "    validation_data=(X_test,y_test),\n",
    "    callbacks = [stop_early]\n",
    ")"
   ]
  },
  {
   "cell_type": "code",
   "execution_count": 26,
   "id": "c54bbb2e",
   "metadata": {},
   "outputs": [
    {
     "name": "stdout",
     "output_type": "stream",
     "text": [
      "Best validation accuracy : 0.8255562782287598\n"
     ]
    }
   ],
   "source": [
    "best_accuracy = max(history.history[\"val_accuracy\"])\n",
    "print(f\"Best validation accuracy : {best_accuracy}\")"
   ]
  },
  {
   "cell_type": "code",
   "execution_count": 27,
   "id": "e1e9a34e",
   "metadata": {},
   "outputs": [
    {
     "data": {
      "image/png": "[encoded data removed]",
      "text/plain": [
       "<Figure size 1008x576 with 2 Axes>"
      ]
     },
     "metadata": {
      "needs_background": "light"
     },
     "output_type": "display_data"
    },
    {
     "name": "stdout",
     "output_type": "stream",
     "text": [
      "Maximum validation accuracy:  0.8255562782287598\n",
      "Minimum loss: 0.387584388256073\n"
     ]
    }
   ],
   "source": [
    "acc = history.history[\"accuracy\"]\n",
    "val_acc = history.history[\"val_accuracy\"]\n",
    "loss = history.history[\"loss\"]\n",
    "val_loss = history.history[\"val_loss\"]\n",
    "epochs_range = range(len(history.history[\"loss\"]))\n",
    "plt.figure(figsize=(14, 8))\n",
    "plt.subplot(1, 2, 1)\n",
    "plt.plot(epochs_range, acc, label=\"Training Accuracy\")\n",
    "plt.plot(epochs_range, val_acc, label=\"Validation Accuracy\")\n",
    "plt.legend(loc=\"lower right\")\n",
    "plt.title(\"Training and Validation Accuracy\")\n",
    "\n",
    "plt.subplot(1, 2, 2)\n",
    "plt.plot(epochs_range, loss, label=\"Training Loss\")\n",
    "plt.plot(epochs_range, val_loss, label=\"Validation Loss\")\n",
    "# Setup the legend\n",
    "plt.legend(loc=\"upper right\")\n",
    "plt.title(\"Training and Validation Loss\")\n",
    "\n",
    "# Show the overall plot\n",
    "plt.show()\n",
    "\n",
    "position = np.argmax(history.history[\"val_accuracy\"])\n",
    "print(f\"Maximum validation accuracy:  {history.history['val_accuracy'][position]}\\nMinimum loss: {history.history['val_loss'][position]}\")"
   ]
  },
  {
   "cell_type": "code",
   "execution_count": null,
   "id": "856ce745",
   "metadata": {},
   "outputs": [],
   "source": []
  }
 ],
 "metadata": {
  "kernelspec": {
   "display_name": "Python 3 (ipykernel)",
   "language": "python",
   "name": "python3"
  },
  "language_info": {
   "codemirror_mode": {
    "name": "ipython",
    "version": 3
   },
   "file_extension": ".py",
   "mimetype": "text/x-python",
   "name": "python",
   "nbconvert_exporter": "python",
   "pygments_lexer": "ipython3",
   "version": "3.9.12"
  }
 },
 "nbformat": 4,
 "nbformat_minor": 5
}
