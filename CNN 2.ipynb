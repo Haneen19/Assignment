{
 "cells": [
  {
   "cell_type": "code",
   "execution_count": 1,
   "id": "28ec2d5c",
   "metadata": {},
   "outputs": [],
   "source": [
    "import matplotlib.pyplot as plt\n",
    "import numpy as np\n",
    "import cv2\n",
    "import os\n",
    "import PIL\n",
    "import tensorflow as tf\n",
    "\n",
    "from tensorflow import keras\n",
    "from tensorflow.keras import layers\n",
    "from tensorflow.keras.models import Sequential"
   ]
  },
  {
   "cell_type": "code",
   "execution_count": 2,
   "id": "25875cab",
   "metadata": {},
   "outputs": [
    {
     "data": {
      "text/plain": [
       "'C:/Users/Hp/Downloads/CroppedYale'"
      ]
     },
     "execution_count": 2,
     "metadata": {},
     "output_type": "execute_result"
    }
   ],
   "source": [
    "data_dir = 'C:/Users/Hp/Downloads/CroppedYale'\n",
    "data_dir"
   ]
  },
  {
   "cell_type": "code",
   "execution_count": 3,
   "id": "11c4bef4",
   "metadata": {},
   "outputs": [
    {
     "data": {
      "text/plain": [
       "WindowsPath('C:/Users/Hp/Downloads/CroppedYale')"
      ]
     },
     "execution_count": 3,
     "metadata": {},
     "output_type": "execute_result"
    }
   ],
   "source": [
    "import pathlib\n",
    "data_dir = pathlib.Path(data_dir)\n",
    "data_dir"
   ]
  },
  {
   "cell_type": "code",
   "execution_count": 4,
   "id": "5a2968ee",
   "metadata": {},
   "outputs": [
    {
     "data": {
      "text/plain": [
       "[WindowsPath('C:/Users/Hp/Downloads/CroppedYale/yaleB01/yaleB01_P00A+000E+45.jpg'),\n",
       " WindowsPath('C:/Users/Hp/Downloads/CroppedYale/yaleB01/yaleB01_P00A+000E+90.jpg'),\n",
       " WindowsPath('C:/Users/Hp/Downloads/CroppedYale/yaleB01/yaleB01_P00A+000E-20.jpg'),\n",
       " WindowsPath('C:/Users/Hp/Downloads/CroppedYale/yaleB01/yaleB01_P00A+000E-35.jpg'),\n",
       " WindowsPath('C:/Users/Hp/Downloads/CroppedYale/yaleB01/yaleB01_P00A+005E+10.jpg')]"
      ]
     },
     "execution_count": 4,
     "metadata": {},
     "output_type": "execute_result"
    }
   ],
   "source": [
    "list(data_dir.glob('*/*.jpg'))[:5]"
   ]
  },
  {
   "cell_type": "code",
   "execution_count": 5,
   "id": "22cf4fca",
   "metadata": {},
   "outputs": [
    {
     "name": "stdout",
     "output_type": "stream",
     "text": [
      "2449\n"
     ]
    }
   ],
   "source": [
    "image_count = len(list(data_dir.glob('*/*.jpg')))\n",
    "print(image_count)"
   ]
  },
  {
   "cell_type": "code",
   "execution_count": 6,
   "id": "06aaa2ef",
   "metadata": {},
   "outputs": [
    {
     "data": {
      "text/plain": [
       "[WindowsPath('C:/Users/Hp/Downloads/CroppedYale/yaleB01/DEADJOE'),\n",
       " WindowsPath('C:/Users/Hp/Downloads/CroppedYale/yaleB01/WS_FTP.LOG'),\n",
       " WindowsPath('C:/Users/Hp/Downloads/CroppedYale/yaleB01/yaleB01_P00.info'),\n",
       " WindowsPath('C:/Users/Hp/Downloads/CroppedYale/yaleB01/yaleB01_P00A+000E+45.jpg'),\n",
       " WindowsPath('C:/Users/Hp/Downloads/CroppedYale/yaleB01/yaleB01_P00A+000E+90.jpg')]"
      ]
     },
     "execution_count": 6,
     "metadata": {},
     "output_type": "execute_result"
    }
   ],
   "source": [
    "yaleB01 = list(data_dir.glob('yaleB01/*'))\n",
    "yaleB01[:5]"
   ]
  },
  {
   "cell_type": "code",
   "execution_count": 7,
   "id": "3250b7fc",
   "metadata": {},
   "outputs": [],
   "source": [
    "images_dict = {\n",
    "               'yaleB01' :list(data_dir.glob('yaleB01/*')) , \n",
    "               'yaleB02' :list(data_dir.glob('yaleB02/*')) , \n",
    "               'yaleB03' :list(data_dir.glob('yaleB03/*')) , \n",
    "               'yaleB04' :list(data_dir.glob('yaleB04/*')) , \n",
    "               'yaleB05' :list(data_dir.glob('yaleB05/*')) , \n",
    "               'yaleB06' :list(data_dir.glob('yaleB06/*')) , \n",
    "               'yaleB07' :list(data_dir.glob('yaleB07/*')) , \n",
    "               'yaleB08' :list(data_dir.glob('yaleB08/*')) , \n",
    "               'yaleB09' :list(data_dir.glob('yaleB09/*')) , \n",
    "               'yaleB10' :list(data_dir.glob('yaleB10/*')) , \n",
    "               'yaleB11' :list(data_dir.glob('yaleB11/*')), \n",
    "               'yaleB12' :list(data_dir.glob('yaleB12/*')), \n",
    "               'yaleB13' :list(data_dir.glob('yaleB13/*')), \n",
    "               'yaleB15' :list(data_dir.glob('yaleB15/*')), \n",
    "               'yaleB16' :list(data_dir.glob('yaleB16/*')), \n",
    "               'yaleB17' :list(data_dir.glob('yaleB17/*')), \n",
    "               'yaleB18' :list(data_dir.glob('yaleB18/*')), \n",
    "               'yaleB19' :list(data_dir.glob('yaleB19/*')), \n",
    "               'yaleB20' :list(data_dir.glob('yaleB20/*')), \n",
    "               'yaleB21' :list(data_dir.glob('yaleB21/*')), \n",
    "               'yaleB22' :list(data_dir.glob('yaleB22/*')), \n",
    "               'yaleB23' :list(data_dir.glob('yaleB23/*')), \n",
    "               'yaleB24' :list(data_dir.glob('yaleB24/*')), \n",
    "               'yaleB25' :list(data_dir.glob('yaleB25/*')), \n",
    "               'yaleB26' :list(data_dir.glob('yaleB26/*')), \n",
    "               'yaleB27' :list(data_dir.glob('yaleB27/*')), \n",
    "               'yaleB28' :list(data_dir.glob('yaleB28/*')), \n",
    "               'yaleB29' :list(data_dir.glob('yaleB29/*')), \n",
    "               'yaleB30' :list(data_dir.glob('yaleB30/*')), \n",
    "               'yaleB31' :list(data_dir.glob('yaleB31/*')), \n",
    "               'yaleB32' :list(data_dir.glob('yaleB32/*')), \n",
    "               'yaleB33' :list(data_dir.glob('yaleB33/*')), \n",
    "               'yaleB34' :list(data_dir.glob('yaleB34/*')), \n",
    "               'yaleB35' :list(data_dir.glob('yaleB35/*')), \n",
    "               'yaleB36' :list(data_dir.glob('yaleB36/*')), \n",
    "               'yaleB37' :list(data_dir.glob('yaleB37/*')), \n",
    "               'yaleB38' :list(data_dir.glob('yaleB38/*')),\n",
    "               'yaleB39' :list(data_dir.glob('yaleB39/*')),\n",
    "}"
   ]
  },
  {
   "cell_type": "code",
   "execution_count": 8,
   "id": "33e2b724",
   "metadata": {},
   "outputs": [],
   "source": [
    "Data_labels = {'yaleB01' :0 , \n",
    "               'yaleB02' :1 , \n",
    "               'yaleB03' :2 , \n",
    "               'yaleB04' :3 , \n",
    "               'yaleB05' :4 , \n",
    "               'yaleB06' :5 , \n",
    "               'yaleB07' :6 , \n",
    "               'yaleB08' :7 , \n",
    "               'yaleB09' :8 , \n",
    "               'yaleB10' :9 , \n",
    "               'yaleB11' :10, \n",
    "               'yaleB12' :11, \n",
    "               'yaleB13' :12, \n",
    "               'yaleB15' :13, \n",
    "               'yaleB16' :14, \n",
    "               'yaleB17' :15, \n",
    "               'yaleB18' :16, \n",
    "               'yaleB19' :17, \n",
    "               'yaleB20' :18, \n",
    "               'yaleB21' :19, \n",
    "               'yaleB22' :20, \n",
    "               'yaleB23' :21, \n",
    "               'yaleB24' :22, \n",
    "               'yaleB25' :23, \n",
    "               'yaleB26' :24, \n",
    "               'yaleB27' :25, \n",
    "               'yaleB28' :26, \n",
    "               'yaleB29' :27, \n",
    "               'yaleB30' :28, \n",
    "               'yaleB31' :29, \n",
    "               'yaleB32' :30, \n",
    "               'yaleB33' :31, \n",
    "               'yaleB34' :32, \n",
    "               'yaleB35' :33, \n",
    "               'yaleB36' :34, \n",
    "               'yaleB37' :35, \n",
    "               'yaleB38' :36,\n",
    "               'yaleB39' :37,\n",
    "               \n",
    "               \n",
    "               \n",
    "    \n",
    "}"
   ]
  },
  {
   "cell_type": "code",
   "execution_count": 9,
   "id": "8ca8bcdb",
   "metadata": {},
   "outputs": [],
   "source": [
    "import os \n",
    "import numpy as np\n",
    "import matplotlib.pyplot as plt\n",
    "import cv2\n"
   ]
  },
  {
   "cell_type": "code",
   "execution_count": 111,
   "id": "339949d6",
   "metadata": {},
   "outputs": [
    {
     "data": {
      "text/plain": [
       "<matplotlib.image.AxesImage at 0x1c2070add60>"
      ]
     },
     "execution_count": 111,
     "metadata": {},
     "output_type": "execute_result"
    },
    {
     "data": {
      "image/png": "[encoded data removed]",
      "text/plain": [
       "<Figure size 432x288 with 1 Axes>"
      ]
     },
     "metadata": {
      "needs_background": "light"
     },
     "output_type": "display_data"
    }
   ],
   "source": [
    "img = cv2.imread(str(images_dict['yaleB01'][5]))\n",
    "plt.imshow(img)"
   ]
  },
  {
   "cell_type": "code",
   "execution_count": 112,
   "id": "22fe157f",
   "metadata": {},
   "outputs": [
    {
     "data": {
      "text/plain": [
       "(192, 168, 3)"
      ]
     },
     "execution_count": 112,
     "metadata": {},
     "output_type": "execute_result"
    }
   ],
   "source": [
    "img.shape"
   ]
  },
  {
   "cell_type": "code",
   "execution_count": 113,
   "id": "86af6851",
   "metadata": {},
   "outputs": [
    {
     "data": {
      "text/plain": [
       "(200, 200, 3)"
      ]
     },
     "execution_count": 113,
     "metadata": {},
     "output_type": "execute_result"
    }
   ],
   "source": [
    "cv2.resize(img,(200,200)).shape"
   ]
  },
  {
   "cell_type": "code",
   "execution_count": null,
   "id": "3c7ae01e",
   "metadata": {},
   "outputs": [],
   "source": []
  },
  {
   "cell_type": "code",
   "execution_count": 165,
   "id": "6b668a08",
   "metadata": {},
   "outputs": [
    {
     "name": "stdout",
     "output_type": "stream",
     "text": [
      "2449\n"
     ]
    }
   ],
   "source": [
    "data = []   #data\n",
    "\n",
    "\n",
    "def make_data():\n",
    "    for Data_label in Data_labels:\n",
    "        path = os.path.join(data_dir ,Data_label )\n",
    "        label = Data_label.index(Data_label)\n",
    "        \n",
    "        \n",
    "        \n",
    "        for img_name in os.listdir(path):\n",
    "            imge_path = os.path.join(path ,img_name )\n",
    "            image = cv2.imread(imge_path)\n",
    "            \n",
    "            \n",
    "            try:\n",
    "                image = cv2.resize(image , (192 ,168))\n",
    "                image = np.array(image , dtype =np.float32)\n",
    "                data.append([image , label])\n",
    "                \n",
    "            except Exception as e:\n",
    "                pass\n",
    "    print(len(data))  \n",
    "    #pik = open('data.pickle', 'wb')\n",
    "    #pickle.dump(data,pick)\n",
    "    #pick.close()\n",
    "    \n",
    "            \n",
    "        \n",
    "make_data()\n",
    "\n",
    "\n",
    "\n"
   ]
  },
  {
   "cell_type": "code",
   "execution_count": 166,
   "id": "054cc5f1",
   "metadata": {},
   "outputs": [],
   "source": [
    "def load_data():\n",
    "    np.random.shuffle(data)\n",
    "    feature =[]\n",
    "    labels =[]\n",
    "    \n",
    "    \n",
    "    for img , label in data:\n",
    "        feature.append(img)\n",
    "        labels.append(label)\n",
    "    feature = np.array(feature , dtype = np.float32)\n",
    "    labels =   np.array(labels)\n",
    "    \n",
    "    feature = feature/255.0\n",
    "    \n",
    "    \n",
    "    return [feature , labels]\n",
    "    \n",
    "    "
   ]
  },
  {
   "cell_type": "code",
   "execution_count": 116,
   "id": "958913a8",
   "metadata": {},
   "outputs": [
    {
     "name": "stdout",
     "output_type": "stream",
     "text": [
      "(2449, 168, 192, 3)\n",
      "(2449,)\n"
     ]
    }
   ],
   "source": [
    "feature = np.array(feature)\n",
    "labels = np.array(labels)\n",
    "print(feature.shape)\n",
    "print(labels.shape)\n"
   ]
  },
  {
   "cell_type": "code",
   "execution_count": 117,
   "id": "4f243876",
   "metadata": {},
   "outputs": [],
   "source": [
    "from sklearn.model_selection import train_test_split\n",
    "from PIL import Image\n",
    "import pandas as pd\n",
    "import numpy as np\n",
    "import matplotlib.pyplot as plt\n",
    "\n",
    "from sklearn.model_selection import train_test_split\n",
    "import scipy.io as sio\n",
    "import pickle\n",
    "import seaborn as sns\n",
    "\n",
    "import tensorflow as tf\n",
    " \n",
    "from keras.models import Sequential\n",
    "from keras.layers.core import Dense, Dropout, Activation, Flatten\n",
    "from keras.layers import Conv2D, MaxPooling2D\n",
    "from keras.utils import np_utils\n",
    "from tensorflow.keras.layers import Conv2D, MaxPool2D\n",
    "import os,sys\n",
    "import glob\n",
    "from time import time"
   ]
  },
  {
   "cell_type": "code",
   "execution_count": 118,
   "id": "a25ed76a",
   "metadata": {},
   "outputs": [],
   "source": [
    "(feature , labels) = load_data()\n",
    "\n",
    "x_train, x_test, y_train, y_test = train_test_split(feature ,labels, test_size = 0.2 , random_state = 20)\n"
   ]
  },
  {
   "cell_type": "code",
   "execution_count": 125,
   "id": "441e08c6",
   "metadata": {},
   "outputs": [],
   "source": [
    "X_train_scaled = x_train / 255\n",
    "X_test_scaled = x_test / 255"
   ]
  },
  {
   "cell_type": "code",
   "execution_count": 154,
   "id": "4fbd87a7",
   "metadata": {},
   "outputs": [
    {
     "name": "stdout",
     "output_type": "stream",
     "text": [
      "62/62 [==============================] - 26s 418ms/step - loss: 0.2903 - accuracy: 0.9837\n"
     ]
    },
    {
     "data": {
      "text/plain": [
       "<keras.callbacks.History at 0x1c22c96cac0>"
      ]
     },
     "execution_count": 154,
     "metadata": {},
     "output_type": "execute_result"
    }
   ],
   "source": [
    "num_classes = 38\n",
    "\n",
    "model = Sequential([\n",
    "  layers.Conv2D(16, 3, padding='same', activation='relu'),\n",
    "  layers.MaxPooling2D(),\n",
    "  layers.Conv2D(32, 3, padding='same', activation='relu'),\n",
    "  layers.MaxPooling2D(),\n",
    "  layers.Conv2D(64, 3, padding='same', activation='relu'),\n",
    "  layers.MaxPooling2D(),\n",
    "  layers.Flatten(),\n",
    "  layers.Dense(128, activation='relu'),\n",
    "  layers.Dense(num_classes)\n",
    "])\n",
    "\n",
    "model.compile(optimizer='adam',\n",
    "              loss=tf.keras.losses.SparseCategoricalCrossentropy(from_logits=True),\n",
    "              metrics=['accuracy'])\n",
    "              \n",
    "model.fit(X_train_scaled, y_train, epochs=1)              "
   ]
  },
  {
   "cell_type": "code",
   "execution_count": 155,
   "id": "f55c210f",
   "metadata": {},
   "outputs": [
    {
     "name": "stdout",
     "output_type": "stream",
     "text": [
      "16/16 [==============================] - 2s 99ms/step - loss: 0.0000e+00 - accuracy: 1.0000\n"
     ]
    },
    {
     "data": {
      "text/plain": [
       "[0.0, 1.0]"
      ]
     },
     "execution_count": 155,
     "metadata": {},
     "output_type": "execute_result"
    }
   ],
   "source": [
    "model.evaluate(X_test_scaled,y_test)\n"
   ]
  },
  {
   "cell_type": "code",
   "execution_count": 158,
   "id": "e437b8e0",
   "metadata": {},
   "outputs": [],
   "source": [
    "data_augmentation = keras.Sequential(\n",
    "  [\n",
    "    layers.experimental.preprocessing.RandomFlip(\"horizontal\", \n",
    "                                                 input_shape=(168, \n",
    "                                                              192,\n",
    "                                                              3)),\n",
    "    layers.experimental.preprocessing.RandomRotation(0.1),\n",
    "    layers.experimental.preprocessing.RandomZoom(0.1),\n",
    "  ]\n",
    ")"
   ]
  },
  {
   "cell_type": "code",
   "execution_count": 162,
   "id": "0d5e2d37",
   "metadata": {},
   "outputs": [
    {
     "name": "stdout",
     "output_type": "stream",
     "text": [
      "62/62 [==============================] - 34s 534ms/step - loss: 0.2312 - accuracy: 0.9842\n"
     ]
    },
    {
     "data": {
      "text/plain": [
       "<keras.callbacks.History at 0x1c1ffbfadc0>"
      ]
     },
     "execution_count": 162,
     "metadata": {},
     "output_type": "execute_result"
    }
   ],
   "source": [
    "num_classes = 38\n",
    "\n",
    "model = Sequential([\n",
    "  data_augmentation,\n",
    "  layers.Conv2D(16, 3, padding='same', activation='relu'),\n",
    "  layers.MaxPooling2D(),\n",
    "  layers.Conv2D(32, 3, padding='same', activation='relu'),\n",
    "  layers.MaxPooling2D(),\n",
    "  layers.Conv2D(64, 3, padding='same', activation='relu'),\n",
    "  layers.MaxPooling2D(),\n",
    "  layers.Dropout(0.2),\n",
    "  layers.Flatten(),\n",
    "  layers.Dense(128, activation='relu'),\n",
    "  layers.Dense(num_classes)\n",
    "])\n",
    "\n",
    "model.compile(optimizer='adam',\n",
    "              loss=tf.keras.losses.SparseCategoricalCrossentropy(from_logits=True),\n",
    "              metrics=['accuracy'])\n",
    "              \n",
    "model.fit(X_train_scaled, y_train, epochs=1)"
   ]
  },
  {
   "cell_type": "code",
   "execution_count": 163,
   "id": "96730b2c",
   "metadata": {},
   "outputs": [
    {
     "name": "stdout",
     "output_type": "stream",
     "text": [
      "16/16 [==============================] - 2s 93ms/step - loss: 0.0000e+00 - accuracy: 1.0000\n"
     ]
    },
    {
     "data": {
      "text/plain": [
       "[0.0, 1.0]"
      ]
     },
     "execution_count": 163,
     "metadata": {},
     "output_type": "execute_result"
    }
   ],
   "source": [
    "model.evaluate(X_test_scaled,y_test)\n"
   ]
  },
  {
   "cell_type": "code",
   "execution_count": null,
   "id": "3fc43f10",
   "metadata": {},
   "outputs": [],
   "source": [
    "# another model "
   ]
  },
  {
   "cell_type": "code",
   "execution_count": 131,
   "id": "5336a618",
   "metadata": {},
   "outputs": [
    {
     "name": "stdout",
     "output_type": "stream",
     "text": [
      "Model: \"sequential_35\"\n",
      "_________________________________________________________________\n",
      " Layer (type)                Output Shape              Param #   \n",
      "=================================================================\n",
      " conv2d_100 (Conv2D)         (None, 168, 192, 32)      896       \n",
      "                                                                 \n",
      " conv2d_101 (Conv2D)         (None, 168, 192, 32)      9248      \n",
      "                                                                 \n",
      " max_pooling2d_59 (MaxPoolin  (None, 84, 96, 32)       0         \n",
      " g2D)                                                            \n",
      "                                                                 \n",
      " dropout_48 (Dropout)        (None, 84, 96, 32)        0         \n",
      "                                                                 \n",
      " conv2d_102 (Conv2D)         (None, 84, 96, 64)        18496     \n",
      "                                                                 \n",
      " conv2d_103 (Conv2D)         (None, 84, 96, 64)        36928     \n",
      "                                                                 \n",
      " max_pooling2d_60 (MaxPoolin  (None, 42, 48, 64)       0         \n",
      " g2D)                                                            \n",
      "                                                                 \n",
      " dropout_49 (Dropout)        (None, 42, 48, 64)        0         \n",
      "                                                                 \n",
      " flatten_24 (Flatten)        (None, 129024)            0         \n",
      "                                                                 \n",
      " dense_48 (Dense)            (None, 128)               16515200  \n",
      "                                                                 \n",
      " dropout_50 (Dropout)        (None, 128)               0         \n",
      "                                                                 \n",
      " dense_49 (Dense)            (None, 38)                4902      \n",
      "                                                                 \n",
      "=================================================================\n",
      "Total params: 16,585,670\n",
      "Trainable params: 16,585,670\n",
      "Non-trainable params: 0\n",
      "_________________________________________________________________\n"
     ]
    }
   ],
   "source": [
    "num_classes = 38\n",
    "input_shape = (168, 192, 3)\n",
    "\n",
    "\n",
    "model = Sequential()\n",
    "model.add(Conv2D(32, kernel_size=(3, 3),activation='relu',padding = 'Same',input_shape=input_shape))\n",
    "model.add(Conv2D(32,kernel_size=(3, 3), activation='relu',padding = 'Same',))\n",
    "model.add(MaxPool2D(pool_size = (2, 2)))\n",
    "model.add(Dropout(0.25))\n",
    "\n",
    "model.add(Conv2D(64, (3, 3), activation='relu',padding = 'Same'))\n",
    "model.add(Conv2D(64, (3, 3), activation='relu',padding = 'Same'))\n",
    "model.add(MaxPool2D(pool_size=(2, 2)))\n",
    "model.add(Dropout(0.40))\n",
    "\n",
    "model.add(Flatten())\n",
    "model.add(Dense(128, activation='relu'))\n",
    "model.add(Dropout(0.5))\n",
    "model.add(Dense(num_classes, activation='softmax'))\n",
    "model.summary()\n",
    "model.compile(optimizer='adam',\n",
    "              loss=tf.keras.losses.SparseCategoricalCrossentropy(from_logits=True),\n",
    "              metrics=['accuracy'])"
   ]
  },
  {
   "cell_type": "code",
   "execution_count": 132,
   "id": "924ab7e7",
   "metadata": {},
   "outputs": [
    {
     "name": "stderr",
     "output_type": "stream",
     "text": [
      "E:\\Anaconda\\lib\\site-packages\\tensorflow\\python\\util\\dispatch.py:1096: UserWarning: \"`sparse_categorical_crossentropy` received `from_logits=True`, but the `output` argument was produced by a sigmoid or softmax activation and thus does not represent logits. Was this intended?\"\n",
      "  return dispatch_target(*args, **kwargs)\n"
     ]
    },
    {
     "name": "stdout",
     "output_type": "stream",
     "text": [
      "62/62 [==============================] - 147s 2s/step - loss: 0.1320 - accuracy: 0.9837\n"
     ]
    },
    {
     "data": {
      "text/plain": [
       "<keras.callbacks.History at 0x1c222032070>"
      ]
     },
     "execution_count": 132,
     "metadata": {},
     "output_type": "execute_result"
    }
   ],
   "source": [
    "model.fit(X_train_scaled, y_train, epochs=1)              "
   ]
  },
  {
   "cell_type": "code",
   "execution_count": 145,
   "id": "8f4780e1",
   "metadata": {},
   "outputs": [
    {
     "name": "stdout",
     "output_type": "stream",
     "text": [
      "16/16 [==============================] - 5s 340ms/step - loss: 0.0000e+00 - accuracy: 1.0000\n"
     ]
    },
    {
     "data": {
      "text/plain": [
       "[0.0, 1.0]"
      ]
     },
     "execution_count": 145,
     "metadata": {},
     "output_type": "execute_result"
    }
   ],
   "source": [
    "model.evaluate(X_test_scaled,y_test)\n"
   ]
  },
  {
   "cell_type": "code",
   "execution_count": 146,
   "id": "ce7e0279",
   "metadata": {},
   "outputs": [
    {
     "data": {
      "text/plain": [
       "array([[1., 0., 0., ..., 0., 0., 0.],\n",
       "       [1., 0., 0., ..., 0., 0., 0.],\n",
       "       [1., 0., 0., ..., 0., 0., 0.],\n",
       "       ...,\n",
       "       [1., 0., 0., ..., 0., 0., 0.],\n",
       "       [1., 0., 0., ..., 0., 0., 0.],\n",
       "       [1., 0., 0., ..., 0., 0., 0.]], dtype=float32)"
      ]
     },
     "execution_count": 146,
     "metadata": {},
     "output_type": "execute_result"
    }
   ],
   "source": [
    "predictions = model.predict(X_test_scaled)\n",
    "predictions"
   ]
  },
  {
   "cell_type": "code",
   "execution_count": 148,
   "id": "6f772852",
   "metadata": {},
   "outputs": [
    {
     "data": {
      "text/plain": [
       "0"
      ]
     },
     "execution_count": 148,
     "metadata": {},
     "output_type": "execute_result"
    }
   ],
   "source": [
    "score = tf.nn.softmax(predictions[0])\n",
    "\n",
    "np.argmax(score)"
   ]
  },
  {
   "cell_type": "code",
   "execution_count": 149,
   "id": "aa068440",
   "metadata": {},
   "outputs": [
    {
     "data": {
      "text/plain": [
       "0"
      ]
     },
     "execution_count": 149,
     "metadata": {},
     "output_type": "execute_result"
    }
   ],
   "source": [
    "y_test[0]\n"
   ]
  },
  {
   "cell_type": "code",
   "execution_count": 134,
   "id": "b0fff1de",
   "metadata": {},
   "outputs": [],
   "source": [
    "#data augmentation \n",
    "\n",
    "from keras.preprocessing.image import ImageDataGenerator\n"
   ]
  },
  {
   "cell_type": "code",
   "execution_count": 135,
   "id": "5cb04350",
   "metadata": {},
   "outputs": [],
   "source": [
    "#data augmentation\n",
    "datagen = ImageDataGenerator(\n",
    "    featurewise_center=False,\n",
    "    samplewise_center=False,\n",
    "    featurewise_std_normalization=False,\n",
    "    samplewise_std_normalization=False,\n",
    "    zca_whitening=False,\n",
    "    rotation_range=15,\n",
    "    width_shift_range=0.1,\n",
    "    height_shift_range=0.1,\n",
    "    horizontal_flip=True,\n",
    "    vertical_flip=False\n",
    "    )\n",
    "datagen.fit(X_train_scaled)"
   ]
  },
  {
   "cell_type": "code",
   "execution_count": 142,
   "id": "52579780",
   "metadata": {},
   "outputs": [
    {
     "name": "stdout",
     "output_type": "stream",
     "text": [
      "Model: \"sequential_37\"\n",
      "_________________________________________________________________\n",
      " Layer (type)                Output Shape              Param #   \n",
      "=================================================================\n",
      " conv2d_108 (Conv2D)         (None, 168, 192, 32)      896       \n",
      "                                                                 \n",
      " conv2d_109 (Conv2D)         (None, 168, 192, 32)      9248      \n",
      "                                                                 \n",
      " max_pooling2d_63 (MaxPoolin  (None, 84, 96, 32)       0         \n",
      " g2D)                                                            \n",
      "                                                                 \n",
      " dropout_54 (Dropout)        (None, 84, 96, 32)        0         \n",
      "                                                                 \n",
      " conv2d_110 (Conv2D)         (None, 84, 96, 64)        18496     \n",
      "                                                                 \n",
      " conv2d_111 (Conv2D)         (None, 84, 96, 64)        36928     \n",
      "                                                                 \n",
      " max_pooling2d_64 (MaxPoolin  (None, 42, 48, 64)       0         \n",
      " g2D)                                                            \n",
      "                                                                 \n",
      " dropout_55 (Dropout)        (None, 42, 48, 64)        0         \n",
      "                                                                 \n",
      " flatten_26 (Flatten)        (None, 129024)            0         \n",
      "                                                                 \n",
      " dense_52 (Dense)            (None, 128)               16515200  \n",
      "                                                                 \n",
      " dropout_56 (Dropout)        (None, 128)               0         \n",
      "                                                                 \n",
      " dense_53 (Dense)            (None, 38)                4902      \n",
      "                                                                 \n",
      "=================================================================\n",
      "Total params: 16,585,670\n",
      "Trainable params: 16,585,670\n",
      "Non-trainable params: 0\n",
      "_________________________________________________________________\n"
     ]
    }
   ],
   "source": [
    "num_classes = 38\n",
    "input_shape = (168, 192, 3)\n",
    "\n",
    "datagen,\n",
    "model = Sequential()\n",
    "model.add(Conv2D(32, kernel_size=(3, 3),activation='relu',padding = 'Same',input_shape=input_shape))\n",
    "model.add(Conv2D(32,kernel_size=(3, 3), activation='relu',padding = 'Same',))\n",
    "model.add(MaxPool2D(pool_size = (2, 2)))\n",
    "model.add(Dropout(0.25))\n",
    "\n",
    "model.add(Conv2D(64, (3, 3), activation='relu',padding = 'Same'))\n",
    "model.add(Conv2D(64, (3, 3), activation='relu',padding = 'Same'))\n",
    "model.add(MaxPool2D(pool_size=(2, 2)))\n",
    "model.add(Dropout(0.40))\n",
    "\n",
    "model.add(Flatten())\n",
    "model.add(Dense(128, activation='relu'))\n",
    "model.add(Dropout(0.5))\n",
    "model.add(Dense(num_classes, activation='softmax'))\n",
    "model.summary()\n",
    "model.compile(optimizer='adam',\n",
    "              loss=tf.keras.losses.SparseCategoricalCrossentropy(from_logits=True),\n",
    "              metrics=['accuracy'])"
   ]
  },
  {
   "cell_type": "code",
   "execution_count": 143,
   "id": "df2de7b8",
   "metadata": {},
   "outputs": [
    {
     "name": "stdout",
     "output_type": "stream",
     "text": [
      "62/62 [==============================] - 144s 2s/step - loss: 0.1177 - accuracy: 0.9842\n"
     ]
    },
    {
     "data": {
      "text/plain": [
       "<keras.callbacks.History at 0x1c220e451c0>"
      ]
     },
     "execution_count": 143,
     "metadata": {},
     "output_type": "execute_result"
    }
   ],
   "source": [
    "model.fit(X_train_scaled, y_train, epochs=1)              \n"
   ]
  },
  {
   "cell_type": "code",
   "execution_count": 144,
   "id": "0fade427",
   "metadata": {},
   "outputs": [
    {
     "name": "stdout",
     "output_type": "stream",
     "text": [
      "16/16 [==============================] - 7s 402ms/step - loss: 0.0000e+00 - accuracy: 1.0000\n"
     ]
    },
    {
     "data": {
      "text/plain": [
       "[0.0, 1.0]"
      ]
     },
     "execution_count": 144,
     "metadata": {},
     "output_type": "execute_result"
    }
   ],
   "source": [
    "model.evaluate(X_test_scaled,y_test)\n"
   ]
  },
  {
   "cell_type": "code",
   "execution_count": null,
   "id": "40bf54e4",
   "metadata": {},
   "outputs": [],
   "source": [
    "predictions = model.predict(X_test_scaled)\n",
    "predictions"
   ]
  }
 ],
 "metadata": {
  "kernelspec": {
   "display_name": "Python 3 (ipykernel)",
   "language": "python",
   "name": "python3"
  },
  "language_info": {
   "codemirror_mode": {
    "name": "ipython",
    "version": 3
   },
   "file_extension": ".py",
   "mimetype": "text/x-python",
   "name": "python",
   "nbconvert_exporter": "python",
   "pygments_lexer": "ipython3",
   "version": "3.9.7"
  }
 },
 "nbformat": 4,
 "nbformat_minor": 5
}
